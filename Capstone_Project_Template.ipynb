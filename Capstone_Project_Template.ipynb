{
  "nbformat": 4,
  "nbformat_minor": 0,
  "metadata": {
    "kernelspec": {
      "display_name": "Python 3",
      "language": "python",
      "name": "python3"
    },
    "language_info": {
      "codemirror_mode": {
        "name": "ipython",
        "version": 3
      },
      "file_extension": ".py",
      "mimetype": "text/x-python",
      "name": "python",
      "nbconvert_exporter": "python",
      "pygments_lexer": "ipython3",
      "version": "3.6.3"
    },
    "colab": {
      "name": "Capstone Project Template.ipynb",
      "provenance": [],
      "include_colab_link": true
    }
  },
  "cells": [
    {
      "cell_type": "markdown",
      "metadata": {
        "id": "view-in-github",
        "colab_type": "text"
      },
      "source": [
        "<a href=\"https://colab.research.google.com/github/raniaabdullah/Capstone-dataengineering/blob/master/Capstone_Project_Template.ipynb\" target=\"_parent\"><img src=\"https://colab.research.google.com/assets/colab-badge.svg\" alt=\"Open In Colab\"/></a>"
      ]
    },
    {
      "cell_type": "markdown",
      "metadata": {
        "editable": true,
        "id": "xX4mbtzaiaG0",
        "colab_type": "text"
      },
      "source": [
        "# ETL pipeline for Airbnb listings in Madrid .\n",
        "### Data Engineering Capstone Project\n",
        "\n",
        "#### Project Summary\n",
        "The aim of this project is to create ETL pipeline by using the listings data , calander data and review data of Airbnb Madrid location to form database allows data analyst to query the data relating to hosts and listings in Mardrid city e.g what is the name of host has the most listings in 2019? \n",
        "\n",
        "The project follows the follow steps:\n",
        "* Step 1: Scope the Project and Gather Data\n",
        "* Step 2: Explore and Assess the Data\n",
        "* Step 3: Define the Data Model\n",
        "* Step 4: Run ETL to Model the Data\n",
        "* Step 5: Complete Project Write Up"
      ]
    },
    {
      "cell_type": "code",
      "metadata": {
        "editable": true,
        "id": "iqBN4KvPiaG1",
        "colab_type": "code",
        "colab": {}
      },
      "source": [
        "# Do all imports and installs here\n",
        "from pyspark.sql import SparkSession, SQLContext, GroupedData\n",
        "from pyspark.sql.functions import *\n",
        "import os\n",
        "import configparser\n",
        "import pandas as pd"
      ],
      "execution_count": 0,
      "outputs": []
    },
    {
      "cell_type": "markdown",
      "metadata": {
        "editable": true,
        "id": "4hiqK3mmiaG6",
        "colab_type": "text"
      },
      "source": [
        "### Step 1: Scope the Project and Gather Data\n",
        "\n",
        "#### Scope \n",
        "In this project, Madrid listings data to form the first dimension table then user_review data to form second dimension table and user_review table is the third dimension table.The three datasets will be joined on Madtrid_listings to form the fact table. The final database optimized to allowa data analyst query all information needed to explore listings behavior in Airbnb Madrid. Spark will be used to process the data.\n",
        "\n",
        "#### Describe and Gather Data \n",
        "Information about Airbnb listings in Madrid, Spain comes from Kaggle. It is provided in csv format. "
      ]
    },
    {
      "cell_type": "markdown",
      "metadata": {
        "editable": true,
        "id": "_-DnuK1_iaG8",
        "colab_type": "text"
      },
      "source": [
        "# Make sure that your AWS credentials are loaded as env vars"
      ]
    },
    {
      "cell_type": "code",
      "metadata": {
        "editable": true,
        "id": "YzMAkrZqiaG_",
        "colab_type": "code",
        "colab": {}
      },
      "source": [
        "config = configparser.ConfigParser()\n",
        "\n",
        "#Normally this file should be in ~/.aws/credentials\n",
        "config.read_file(open('dl.cfg'))\n",
        "\n",
        "os.environ[\"AWS_ACCESS_KEY_ID\"]= config['AWS']['AWS_ACCESS_KEY_ID']\n",
        "os.environ[\"AWS_SECRET_ACCESS_KEY\"]= config['AWS']['AWS_SECRET_ACCESS_KEY']"
      ],
      "execution_count": 0,
      "outputs": []
    },
    {
      "cell_type": "markdown",
      "metadata": {
        "editable": true,
        "id": "A8y8RwNxiaHC",
        "colab_type": "text"
      },
      "source": [
        "# Create spark session with hadoop-aws package"
      ]
    },
    {
      "cell_type": "code",
      "metadata": {
        "editable": true,
        "id": "ZAm8ryySiaHD",
        "colab_type": "code",
        "colab": {}
      },
      "source": [
        "spark = SparkSession.builder.config(\"spark.jars.packages\", \"org.apache.hadoop:hadoop-aws:2.7.5\") \\\n",
        "        .getOrCreate() "
      ],
      "execution_count": 0,
      "outputs": []
    },
    {
      "cell_type": "code",
      "metadata": {
        "editable": true,
        "id": "0xbz4pdkiaHG",
        "colab_type": "code",
        "colab": {}
      },
      "source": [
        "#Build SQL context object\n",
        "sqlContext = SQLContext(spark)"
      ],
      "execution_count": 0,
      "outputs": []
    },
    {
      "cell_type": "markdown",
      "metadata": {
        "editable": true,
        "id": "kA5zLqbUiaHJ",
        "colab_type": "text"
      },
      "source": [
        "# Read data from csv files"
      ]
    },
    {
      "cell_type": "code",
      "metadata": {
        "editable": true,
        "id": "wma23eDZiaHL",
        "colab_type": "code",
        "colab": {}
      },
      "source": [
        "# Read in the data here\n",
        "df_listings = spark.read.format(\"csv\").option(\"header\", \"true\").load(\"listings.csv\")"
      ],
      "execution_count": 0,
      "outputs": []
    },
    {
      "cell_type": "code",
      "metadata": {
        "editable": true,
        "id": "39Q83_NkiaHP",
        "colab_type": "code",
        "outputId": "89581ffd-0bfb-4690-dbbb-b4ce30a97766",
        "colab": {}
      },
      "source": [
        "df_listings.printSchema()\n",
        "df_listings.limit(3).toPandas()"
      ],
      "execution_count": 0,
      "outputs": [
        {
          "output_type": "stream",
          "text": [
            "root\n",
            " |-- id: string (nullable = true)\n",
            " |-- name: string (nullable = true)\n",
            " |-- host_id: string (nullable = true)\n",
            " |-- host_name: string (nullable = true)\n",
            " |-- neighbourhood_group: string (nullable = true)\n",
            " |-- neighbourhood: string (nullable = true)\n",
            " |-- latitude: string (nullable = true)\n",
            " |-- longitude: string (nullable = true)\n",
            " |-- room_type: string (nullable = true)\n",
            " |-- price: string (nullable = true)\n",
            " |-- minimum_nights: string (nullable = true)\n",
            " |-- number_of_reviews: string (nullable = true)\n",
            " |-- last_review: string (nullable = true)\n",
            " |-- reviews_per_month: string (nullable = true)\n",
            " |-- calculated_host_listings_count: string (nullable = true)\n",
            " |-- availability_365: string (nullable = true)\n",
            "\n"
          ],
          "name": "stdout"
        },
        {
          "output_type": "execute_result",
          "data": {
            "text/html": [
              "<div>\n",
              "<style scoped>\n",
              "    .dataframe tbody tr th:only-of-type {\n",
              "        vertical-align: middle;\n",
              "    }\n",
              "\n",
              "    .dataframe tbody tr th {\n",
              "        vertical-align: top;\n",
              "    }\n",
              "\n",
              "    .dataframe thead th {\n",
              "        text-align: right;\n",
              "    }\n",
              "</style>\n",
              "<table border=\"1\" class=\"dataframe\">\n",
              "  <thead>\n",
              "    <tr style=\"text-align: right;\">\n",
              "      <th></th>\n",
              "      <th>id</th>\n",
              "      <th>name</th>\n",
              "      <th>host_id</th>\n",
              "      <th>host_name</th>\n",
              "      <th>neighbourhood_group</th>\n",
              "      <th>neighbourhood</th>\n",
              "      <th>latitude</th>\n",
              "      <th>longitude</th>\n",
              "      <th>room_type</th>\n",
              "      <th>price</th>\n",
              "      <th>minimum_nights</th>\n",
              "      <th>number_of_reviews</th>\n",
              "      <th>last_review</th>\n",
              "      <th>reviews_per_month</th>\n",
              "      <th>calculated_host_listings_count</th>\n",
              "      <th>availability_365</th>\n",
              "    </tr>\n",
              "  </thead>\n",
              "  <tbody>\n",
              "    <tr>\n",
              "      <th>0</th>\n",
              "      <td>6369</td>\n",
              "      <td>Rooftop terrace room with ensuite bathroom, Airc.</td>\n",
              "      <td>13660</td>\n",
              "      <td>Simon</td>\n",
              "      <td>Chamartín</td>\n",
              "      <td>Hispanoamérica</td>\n",
              "      <td>40.45628</td>\n",
              "      <td>-3.67763</td>\n",
              "      <td>Private room</td>\n",
              "      <td>70</td>\n",
              "      <td>1</td>\n",
              "      <td>65</td>\n",
              "      <td>2019-09-04</td>\n",
              "      <td>0.56</td>\n",
              "      <td>1</td>\n",
              "      <td>53</td>\n",
              "    </tr>\n",
              "    <tr>\n",
              "      <th>1</th>\n",
              "      <td>21853</td>\n",
              "      <td>Bright and airy room</td>\n",
              "      <td>83531</td>\n",
              "      <td>Abdel</td>\n",
              "      <td>Latina</td>\n",
              "      <td>Cármenes</td>\n",
              "      <td>40.40341</td>\n",
              "      <td>-3.74084</td>\n",
              "      <td>Private room</td>\n",
              "      <td>17</td>\n",
              "      <td>4</td>\n",
              "      <td>33</td>\n",
              "      <td>2018-07-15</td>\n",
              "      <td>0.55</td>\n",
              "      <td>2</td>\n",
              "      <td>48</td>\n",
              "    </tr>\n",
              "    <tr>\n",
              "      <th>2</th>\n",
              "      <td>24805</td>\n",
              "      <td>Gran Via Studio Madrid</td>\n",
              "      <td>101471</td>\n",
              "      <td>Iraido</td>\n",
              "      <td>Centro</td>\n",
              "      <td>Universidad</td>\n",
              "      <td>40.42202</td>\n",
              "      <td>-3.70395</td>\n",
              "      <td>Entire home/apt</td>\n",
              "      <td>80</td>\n",
              "      <td>5</td>\n",
              "      <td>2</td>\n",
              "      <td>2017-07-03</td>\n",
              "      <td>0.03</td>\n",
              "      <td>1</td>\n",
              "      <td>354</td>\n",
              "    </tr>\n",
              "  </tbody>\n",
              "</table>\n",
              "</div>"
            ],
            "text/plain": [
              "      id                                               name host_id host_name  \\\n",
              "0   6369  Rooftop terrace room with ensuite bathroom, Airc.   13660     Simon   \n",
              "1  21853                               Bright and airy room   83531     Abdel   \n",
              "2  24805                             Gran Via Studio Madrid  101471    Iraido   \n",
              "\n",
              "  neighbourhood_group   neighbourhood  latitude longitude        room_type  \\\n",
              "0           Chamartín  Hispanoamérica  40.45628  -3.67763     Private room   \n",
              "1              Latina        Cármenes  40.40341  -3.74084     Private room   \n",
              "2              Centro     Universidad  40.42202  -3.70395  Entire home/apt   \n",
              "\n",
              "  price minimum_nights number_of_reviews last_review reviews_per_month  \\\n",
              "0    70              1                65  2019-09-04              0.56   \n",
              "1    17              4                33  2018-07-15              0.55   \n",
              "2    80              5                 2  2017-07-03              0.03   \n",
              "\n",
              "  calculated_host_listings_count availability_365  \n",
              "0                              1               53  \n",
              "1                              2               48  \n",
              "2                              1              354  "
            ]
          },
          "metadata": {
            "tags": []
          },
          "execution_count": 171
        }
      ]
    },
    {
      "cell_type": "code",
      "metadata": {
        "editable": true,
        "id": "YKOutJ9-iaHS",
        "colab_type": "code",
        "colab": {}
      },
      "source": [
        "df_calendar=spark.read.format(\"csv\").option(\"header\", \"true\").load(\"calendar.csv\")"
      ],
      "execution_count": 0,
      "outputs": []
    },
    {
      "cell_type": "code",
      "metadata": {
        "editable": true,
        "id": "0PFGa6CHiaHV",
        "colab_type": "code",
        "outputId": "b43db61e-63e8-4012-c2a1-153ab89a7a2e",
        "colab": {}
      },
      "source": [
        "df_calendar.printSchema()\n",
        "df_calendar.limit(3).toPandas()"
      ],
      "execution_count": 0,
      "outputs": [
        {
          "output_type": "stream",
          "text": [
            "root\n",
            " |-- listing_id: string (nullable = true)\n",
            " |-- date: string (nullable = true)\n",
            " |-- available: string (nullable = true)\n",
            " |-- price: string (nullable = true)\n",
            " |-- adjusted_price: string (nullable = true)\n",
            " |-- minimum_nights: string (nullable = true)\n",
            " |-- maximum_nights: string (nullable = true)\n",
            "\n"
          ],
          "name": "stdout"
        },
        {
          "output_type": "execute_result",
          "data": {
            "text/html": [
              "<div>\n",
              "<style scoped>\n",
              "    .dataframe tbody tr th:only-of-type {\n",
              "        vertical-align: middle;\n",
              "    }\n",
              "\n",
              "    .dataframe tbody tr th {\n",
              "        vertical-align: top;\n",
              "    }\n",
              "\n",
              "    .dataframe thead th {\n",
              "        text-align: right;\n",
              "    }\n",
              "</style>\n",
              "<table border=\"1\" class=\"dataframe\">\n",
              "  <thead>\n",
              "    <tr style=\"text-align: right;\">\n",
              "      <th></th>\n",
              "      <th>listing_id</th>\n",
              "      <th>date</th>\n",
              "      <th>available</th>\n",
              "      <th>price</th>\n",
              "      <th>adjusted_price</th>\n",
              "      <th>minimum_nights</th>\n",
              "      <th>maximum_nights</th>\n",
              "    </tr>\n",
              "  </thead>\n",
              "  <tbody>\n",
              "    <tr>\n",
              "      <th>0</th>\n",
              "      <td>336834</td>\n",
              "      <td>2019-09-19</td>\n",
              "      <td>f</td>\n",
              "      <td>$63.00</td>\n",
              "      <td>$63.00</td>\n",
              "      <td>5</td>\n",
              "      <td>250</td>\n",
              "    </tr>\n",
              "    <tr>\n",
              "      <th>1</th>\n",
              "      <td>6369</td>\n",
              "      <td>2019-09-19</td>\n",
              "      <td>f</td>\n",
              "      <td>$70.00</td>\n",
              "      <td>$70.00</td>\n",
              "      <td>1</td>\n",
              "      <td>365</td>\n",
              "    </tr>\n",
              "    <tr>\n",
              "      <th>2</th>\n",
              "      <td>6369</td>\n",
              "      <td>2019-09-20</td>\n",
              "      <td>f</td>\n",
              "      <td>$75.00</td>\n",
              "      <td>$75.00</td>\n",
              "      <td>1</td>\n",
              "      <td>365</td>\n",
              "    </tr>\n",
              "  </tbody>\n",
              "</table>\n",
              "</div>"
            ],
            "text/plain": [
              "  listing_id        date available   price adjusted_price minimum_nights  \\\n",
              "0     336834  2019-09-19         f  $63.00         $63.00              5   \n",
              "1       6369  2019-09-19         f  $70.00         $70.00              1   \n",
              "2       6369  2019-09-20         f  $75.00         $75.00              1   \n",
              "\n",
              "  maximum_nights  \n",
              "0            250  \n",
              "1            365  \n",
              "2            365  "
            ]
          },
          "metadata": {
            "tags": []
          },
          "execution_count": 173
        }
      ]
    },
    {
      "cell_type": "code",
      "metadata": {
        "editable": true,
        "id": "DPKtZTcBiaHd",
        "colab_type": "code",
        "colab": {}
      },
      "source": [
        "df_reviews=spark.read.format(\"csv\").option(\"header\", \"true\").load(\"reviews.csv\")"
      ],
      "execution_count": 0,
      "outputs": []
    },
    {
      "cell_type": "code",
      "metadata": {
        "editable": true,
        "id": "q0aTPcg8iaHg",
        "colab_type": "code",
        "outputId": "e03a4016-68ea-4317-b9f2-89776dbe9534",
        "colab": {}
      },
      "source": [
        "df_reviews.printSchema()\n",
        "df_reviews.limit(3).toPandas()"
      ],
      "execution_count": 0,
      "outputs": [
        {
          "output_type": "stream",
          "text": [
            "root\n",
            " |-- listing_id: string (nullable = true)\n",
            " |-- id: string (nullable = true)\n",
            " |-- date: string (nullable = true)\n",
            " |-- reviewer_id: string (nullable = true)\n",
            " |-- reviewer_name: string (nullable = true)\n",
            " |-- comments: string (nullable = true)\n",
            "\n"
          ],
          "name": "stdout"
        },
        {
          "output_type": "execute_result",
          "data": {
            "text/html": [
              "<div>\n",
              "<style scoped>\n",
              "    .dataframe tbody tr th:only-of-type {\n",
              "        vertical-align: middle;\n",
              "    }\n",
              "\n",
              "    .dataframe tbody tr th {\n",
              "        vertical-align: top;\n",
              "    }\n",
              "\n",
              "    .dataframe thead th {\n",
              "        text-align: right;\n",
              "    }\n",
              "</style>\n",
              "<table border=\"1\" class=\"dataframe\">\n",
              "  <thead>\n",
              "    <tr style=\"text-align: right;\">\n",
              "      <th></th>\n",
              "      <th>listing_id</th>\n",
              "      <th>id</th>\n",
              "      <th>date</th>\n",
              "      <th>reviewer_id</th>\n",
              "      <th>reviewer_name</th>\n",
              "      <th>comments</th>\n",
              "    </tr>\n",
              "  </thead>\n",
              "  <tbody>\n",
              "    <tr>\n",
              "      <th>0</th>\n",
              "      <td>6369</td>\n",
              "      <td>29428</td>\n",
              "      <td>2010-03-14</td>\n",
              "      <td>84790</td>\n",
              "      <td>Nancy</td>\n",
              "      <td>Simon and Arturo have the ultimate location in...</td>\n",
              "    </tr>\n",
              "    <tr>\n",
              "      <th>1</th>\n",
              "      <td>6369</td>\n",
              "      <td>31018</td>\n",
              "      <td>2010-03-23</td>\n",
              "      <td>84338</td>\n",
              "      <td>David</td>\n",
              "      <td>Myself and Kristy originally planned on stayin...</td>\n",
              "    </tr>\n",
              "    <tr>\n",
              "      <th>2</th>\n",
              "      <td>6369</td>\n",
              "      <td>34694</td>\n",
              "      <td>2010-04-10</td>\n",
              "      <td>98655</td>\n",
              "      <td>Marion</td>\n",
              "      <td>We had a great time at Arturo and Simon's ! A ...</td>\n",
              "    </tr>\n",
              "  </tbody>\n",
              "</table>\n",
              "</div>"
            ],
            "text/plain": [
              "  listing_id     id        date reviewer_id reviewer_name  \\\n",
              "0       6369  29428  2010-03-14       84790         Nancy   \n",
              "1       6369  31018  2010-03-23       84338         David   \n",
              "2       6369  34694  2010-04-10       98655        Marion   \n",
              "\n",
              "                                            comments  \n",
              "0  Simon and Arturo have the ultimate location in...  \n",
              "1  Myself and Kristy originally planned on stayin...  \n",
              "2  We had a great time at Arturo and Simon's ! A ...  "
            ]
          },
          "metadata": {
            "tags": []
          },
          "execution_count": 175
        }
      ]
    },
    {
      "cell_type": "markdown",
      "metadata": {
        "editable": true,
        "id": "lmmyDyvMiaHj",
        "colab_type": "text"
      },
      "source": [
        "### Step 2: Explore and Assess the Data\n",
        "#### Explore the Data \n",
        "Identify data quality issues, like missing values, duplicate data, etc.\n",
        "\n",
        "#### Cleaning Steps\n",
        "1. Drop any listing hasn't null date values.\n",
        "2. Remove all duplicates rows \n",
        "3. change column called id in reviews table to be host_id , change column called id in listings table to be listing_id\n",
        "4. Remove listing_id in review calendar if its data type is string"
      ]
    },
    {
      "cell_type": "code",
      "metadata": {
        "editable": true,
        "id": "hR6gf_F_iaHk",
        "colab_type": "code",
        "colab": {}
      },
      "source": [
        "# Performing cleaning tasks here\n",
        "# Removing entirely duplicate rows from listings, calendar and reviews tables\n",
        "df_listings=df_listings.distinct()\n",
        "df_calendar=df_calendar.distinct()\n",
        "df_reviews=df_reviews.distinct()\n",
        "\n",
        "# Drop listings with nall date from calendar table \n",
        "df_calendar = df_calendar.filter(df_calendar[\"date\"] != \"NaN\")\n",
        "\n",
        "# Change columns name \n",
        "df_listings=df_listings.withColumnRenamed(\"id\", \"listing_id\")\n",
        "df_reviews = df_reviews.withColumnRenamed(\"id\", \"host_id\")\n",
        "df_calendar = df_calendar.withColumnRenamed(\"date\", \"listing_date\")"
      ],
      "execution_count": 0,
      "outputs": []
    },
    {
      "cell_type": "code",
      "metadata": {
        "editable": true,
        "id": "gSbkFB8TiaHm",
        "colab_type": "code",
        "outputId": "647bac0b-37e9-460d-baf8-82430f28c585",
        "colab": {}
      },
      "source": [
        "df_listings.printSchema()\n",
        "df_listings.limit(3).toPandas()"
      ],
      "execution_count": 0,
      "outputs": [
        {
          "output_type": "stream",
          "text": [
            "root\n",
            " |-- listing_id: string (nullable = true)\n",
            " |-- name: string (nullable = true)\n",
            " |-- host_id: string (nullable = true)\n",
            " |-- host_name: string (nullable = true)\n",
            " |-- neighbourhood_group: string (nullable = true)\n",
            " |-- neighbourhood: string (nullable = true)\n",
            " |-- latitude: string (nullable = true)\n",
            " |-- longitude: string (nullable = true)\n",
            " |-- room_type: string (nullable = true)\n",
            " |-- price: string (nullable = true)\n",
            " |-- minimum_nights: string (nullable = true)\n",
            " |-- number_of_reviews: string (nullable = true)\n",
            " |-- last_review: string (nullable = true)\n",
            " |-- reviews_per_month: string (nullable = true)\n",
            " |-- calculated_host_listings_count: string (nullable = true)\n",
            " |-- availability_365: string (nullable = true)\n",
            "\n"
          ],
          "name": "stdout"
        },
        {
          "output_type": "execute_result",
          "data": {
            "text/html": [
              "<div>\n",
              "<style scoped>\n",
              "    .dataframe tbody tr th:only-of-type {\n",
              "        vertical-align: middle;\n",
              "    }\n",
              "\n",
              "    .dataframe tbody tr th {\n",
              "        vertical-align: top;\n",
              "    }\n",
              "\n",
              "    .dataframe thead th {\n",
              "        text-align: right;\n",
              "    }\n",
              "</style>\n",
              "<table border=\"1\" class=\"dataframe\">\n",
              "  <thead>\n",
              "    <tr style=\"text-align: right;\">\n",
              "      <th></th>\n",
              "      <th>listing_id</th>\n",
              "      <th>name</th>\n",
              "      <th>host_id</th>\n",
              "      <th>host_name</th>\n",
              "      <th>neighbourhood_group</th>\n",
              "      <th>neighbourhood</th>\n",
              "      <th>latitude</th>\n",
              "      <th>longitude</th>\n",
              "      <th>room_type</th>\n",
              "      <th>price</th>\n",
              "      <th>minimum_nights</th>\n",
              "      <th>number_of_reviews</th>\n",
              "      <th>last_review</th>\n",
              "      <th>reviews_per_month</th>\n",
              "      <th>calculated_host_listings_count</th>\n",
              "      <th>availability_365</th>\n",
              "    </tr>\n",
              "  </thead>\n",
              "  <tbody>\n",
              "    <tr>\n",
              "      <th>0</th>\n",
              "      <td>594298</td>\n",
              "      <td>Great Design, Views and Location</td>\n",
              "      <td>153391</td>\n",
              "      <td>Fernando</td>\n",
              "      <td>Centro</td>\n",
              "      <td>Sol</td>\n",
              "      <td>40.41871</td>\n",
              "      <td>-3.70607</td>\n",
              "      <td>Entire home/apt</td>\n",
              "      <td>105</td>\n",
              "      <td>1</td>\n",
              "      <td>378</td>\n",
              "      <td>2019-08-20</td>\n",
              "      <td>4.46</td>\n",
              "      <td>6</td>\n",
              "      <td>3</td>\n",
              "    </tr>\n",
              "    <tr>\n",
              "      <th>1</th>\n",
              "      <td>709208</td>\n",
              "      <td>Apartment in the heart of Madrid</td>\n",
              "      <td>3648882</td>\n",
              "      <td>Luz</td>\n",
              "      <td>Centro</td>\n",
              "      <td>Sol</td>\n",
              "      <td>40.41674</td>\n",
              "      <td>-3.70743</td>\n",
              "      <td>Entire home/apt</td>\n",
              "      <td>69</td>\n",
              "      <td>2</td>\n",
              "      <td>512</td>\n",
              "      <td>2019-09-15</td>\n",
              "      <td>6.06</td>\n",
              "      <td>1</td>\n",
              "      <td>316</td>\n",
              "    </tr>\n",
              "    <tr>\n",
              "      <th>2</th>\n",
              "      <td>852654</td>\n",
              "      <td>GRAN VÍA-SOL estudio-duplex con terraza “VINTAGE”</td>\n",
              "      <td>3726732</td>\n",
              "      <td>Javier</td>\n",
              "      <td>Centro</td>\n",
              "      <td>Sol</td>\n",
              "      <td>40.41882</td>\n",
              "      <td>-3.70107</td>\n",
              "      <td>Entire home/apt</td>\n",
              "      <td>67</td>\n",
              "      <td>3</td>\n",
              "      <td>138</td>\n",
              "      <td>2019-08-01</td>\n",
              "      <td>2.14</td>\n",
              "      <td>8</td>\n",
              "      <td>318</td>\n",
              "    </tr>\n",
              "  </tbody>\n",
              "</table>\n",
              "</div>"
            ],
            "text/plain": [
              "  listing_id                                               name  host_id  \\\n",
              "0     594298                   Great Design, Views and Location   153391   \n",
              "1     709208                   Apartment in the heart of Madrid  3648882   \n",
              "2     852654  GRAN VÍA-SOL estudio-duplex con terraza “VINTAGE”  3726732   \n",
              "\n",
              "  host_name neighbourhood_group neighbourhood  latitude longitude  \\\n",
              "0  Fernando              Centro           Sol  40.41871  -3.70607   \n",
              "1       Luz              Centro           Sol  40.41674  -3.70743   \n",
              "2    Javier              Centro           Sol  40.41882  -3.70107   \n",
              "\n",
              "         room_type price minimum_nights number_of_reviews last_review  \\\n",
              "0  Entire home/apt   105              1               378  2019-08-20   \n",
              "1  Entire home/apt    69              2               512  2019-09-15   \n",
              "2  Entire home/apt    67              3               138  2019-08-01   \n",
              "\n",
              "  reviews_per_month calculated_host_listings_count availability_365  \n",
              "0              4.46                              6                3  \n",
              "1              6.06                              1              316  \n",
              "2              2.14                              8              318  "
            ]
          },
          "metadata": {
            "tags": []
          },
          "execution_count": 177
        }
      ]
    },
    {
      "cell_type": "code",
      "metadata": {
        "editable": true,
        "id": "f7K4Uq6RiaHp",
        "colab_type": "code",
        "outputId": "23c1d015-6b2d-4bd1-a4bc-0dac71f45a5b",
        "colab": {}
      },
      "source": [
        "df_reviews.printSchema()\n",
        "df_reviews.limit(3).toPandas()"
      ],
      "execution_count": 0,
      "outputs": [
        {
          "output_type": "stream",
          "text": [
            "root\n",
            " |-- listing_id: string (nullable = true)\n",
            " |-- host_id: string (nullable = true)\n",
            " |-- date: string (nullable = true)\n",
            " |-- reviewer_id: string (nullable = true)\n",
            " |-- reviewer_name: string (nullable = true)\n",
            " |-- comments: string (nullable = true)\n",
            "\n"
          ],
          "name": "stdout"
        },
        {
          "output_type": "execute_result",
          "data": {
            "text/html": [
              "<div>\n",
              "<style scoped>\n",
              "    .dataframe tbody tr th:only-of-type {\n",
              "        vertical-align: middle;\n",
              "    }\n",
              "\n",
              "    .dataframe tbody tr th {\n",
              "        vertical-align: top;\n",
              "    }\n",
              "\n",
              "    .dataframe thead th {\n",
              "        text-align: right;\n",
              "    }\n",
              "</style>\n",
              "<table border=\"1\" class=\"dataframe\">\n",
              "  <thead>\n",
              "    <tr style=\"text-align: right;\">\n",
              "      <th></th>\n",
              "      <th>listing_id</th>\n",
              "      <th>host_id</th>\n",
              "      <th>date</th>\n",
              "      <th>reviewer_id</th>\n",
              "      <th>reviewer_name</th>\n",
              "      <th>comments</th>\n",
              "    </tr>\n",
              "  </thead>\n",
              "  <tbody>\n",
              "    <tr>\n",
              "      <th>0</th>\n",
              "      <td>El piso y la habitacion son muy bonitos y hay ...</td>\n",
              "      <td>None</td>\n",
              "      <td>None</td>\n",
              "      <td>None</td>\n",
              "      <td>None</td>\n",
              "      <td>None</td>\n",
              "    </tr>\n",
              "    <tr>\n",
              "      <th>1</th>\n",
              "      <td>x\"</td>\n",
              "      <td>None</td>\n",
              "      <td>None</td>\n",
              "      <td>None</td>\n",
              "      <td>None</td>\n",
              "      <td>None</td>\n",
              "    </tr>\n",
              "    <tr>\n",
              "      <th>2</th>\n",
              "      <td>82481</td>\n",
              "      <td>53081880</td>\n",
              "      <td>2015-11-04</td>\n",
              "      <td>24664309</td>\n",
              "      <td>Dominic</td>\n",
              "      <td>Mercedes hat uns freundlich empfangen. Unsere ...</td>\n",
              "    </tr>\n",
              "  </tbody>\n",
              "</table>\n",
              "</div>"
            ],
            "text/plain": [
              "                                          listing_id   host_id        date  \\\n",
              "0  El piso y la habitacion son muy bonitos y hay ...      None        None   \n",
              "1                                                 x\"      None        None   \n",
              "2                                              82481  53081880  2015-11-04   \n",
              "\n",
              "  reviewer_id reviewer_name                                           comments  \n",
              "0        None          None                                               None  \n",
              "1        None          None                                               None  \n",
              "2    24664309       Dominic  Mercedes hat uns freundlich empfangen. Unsere ...  "
            ]
          },
          "metadata": {
            "tags": []
          },
          "execution_count": 178
        }
      ]
    },
    {
      "cell_type": "markdown",
      "metadata": {
        "editable": true,
        "id": "6vaNdz59iaHu",
        "colab_type": "text"
      },
      "source": [
        "### Step 3: Define the Data Model\n",
        "#### 3.1 Conceptual Data Model\n",
        "Map out the conceptual data model and explain why you chose that model\n",
        "\n",
        "\n",
        "## **Star Schema**\n",
        "\n",
        "1. **Dimension Tables** \n",
        "   \n",
        "    - listings_table\n",
        "            . listing_id,host_id,host_name,room_type,price,minimum_nights,number_of_reviews,calculated_host_listings_count,availability_365\n",
        "    - calendar_table\n",
        "           . listing_id,listing_date,available,price,adjusted_price,minimum_nights,maximum_nights\n",
        "    - review_table\n",
        "           . listing_id,host_id,date,reviewer_id,reviewer_name,comments\n",
        "1. **Fact Table** \n",
        "\n",
        "   - listings_fact_table\n",
        "        .      listing_id,host_id,host_name,calculated_host_listings_count,listing_date,reviewer_id,reviewer_name\n",
        "        \n",
        "\n",
        "The star schema is best and simple choice for data anlayzation. \n",
        "        \n",
        "   \n",
        "   \n",
        "#### 3.2 Mapping Out Data Pipelines\n",
        "1. Dimension tables will be created from cleansed data.\n",
        "2. Fact table is created as a SQL query with joins to dimension tables.\n",
        "3. Fact table is converted back to a spark dataframe.\n",
        "4. Fact table is written as final parquet file."
      ]
    },
    {
      "cell_type": "markdown",
      "metadata": {
        "editable": true,
        "id": "sTkIqfTiiaHw",
        "colab_type": "text"
      },
      "source": [
        "### Step 4: Run Pipelines to Model the Data \n",
        "#### 4.1 Create the data model\n",
        "Build the data pipelines to create the data model."
      ]
    },
    {
      "cell_type": "code",
      "metadata": {
        "editable": true,
        "id": "umvIFTkYiaHx",
        "colab_type": "code",
        "colab": {}
      },
      "source": [
        "# Create Dimension tables\n",
        "df_listings.createOrReplaceTempView(\"listings\")\n",
        "df_calendar.createOrReplaceTempView(\"calendar\")\n",
        "df_reviews.createOrReplaceTempView(\"reviews\")\n",
        "\n",
        "#allow unlimited time for SQL joins and parquet writes.\n",
        "sqlContext.setConf(\"spark.sql.autoBroadcastJoinThreshold\", \"0\") "
      ],
      "execution_count": 0,
      "outputs": []
    },
    {
      "cell_type": "code",
      "metadata": {
        "editable": true,
        "id": "LsVu8ikPiaHz",
        "colab_type": "code",
        "colab": {}
      },
      "source": [
        "# Create fact table by joining dimension tables\n",
        "# to know what is the name of host has the most listings in 2019\n",
        "listings_fact_table=spark.sql(\"\"\"\n",
        "\n",
        "SELECT listings.listing_id as listing_id,\n",
        "       listings.host_id as host_id,\n",
        "       listings.host_name as host_name,\n",
        "       listings.calculated_host_listings_count as numbert_of_listings,\n",
        "       calendar.listing_date as listing_date\n",
        "FROM listings\n",
        "JOIN  calendar ON (listings.listing_id = calendar.listing_id)\n",
        "WHERE\n",
        "   calendar.listing_date BETWEEN '2019-01-1' AND '2019-10-30'                        \"\"\")"
      ],
      "execution_count": 0,
      "outputs": []
    },
    {
      "cell_type": "code",
      "metadata": {
        "editable": true,
        "id": "_Y2pjwy4iaH2",
        "colab_type": "code",
        "outputId": "88a5ea12-553d-44c1-8186-f2d6ec774119",
        "colab": {}
      },
      "source": [
        "# Write fact table to parquet\n",
        "listings_fact_table.write.parquet(\"listings_fact_table\")"
      ],
      "execution_count": 0,
      "outputs": [
        {
          "output_type": "error",
          "ename": "AnalysisException",
          "evalue": "'path file:/home/workspace/listings_fact_table already exists.;'",
          "traceback": [
            "\u001b[0;31m---------------------------------------------------------------------------\u001b[0m",
            "\u001b[0;31mPy4JJavaError\u001b[0m                             Traceback (most recent call last)",
            "\u001b[0;32m/opt/spark-2.4.3-bin-hadoop2.7/python/pyspark/sql/utils.py\u001b[0m in \u001b[0;36mdeco\u001b[0;34m(*a, **kw)\u001b[0m\n\u001b[1;32m     62\u001b[0m         \u001b[0;32mtry\u001b[0m\u001b[0;34m:\u001b[0m\u001b[0;34m\u001b[0m\u001b[0m\n\u001b[0;32m---> 63\u001b[0;31m             \u001b[0;32mreturn\u001b[0m \u001b[0mf\u001b[0m\u001b[0;34m(\u001b[0m\u001b[0;34m*\u001b[0m\u001b[0ma\u001b[0m\u001b[0;34m,\u001b[0m \u001b[0;34m**\u001b[0m\u001b[0mkw\u001b[0m\u001b[0;34m)\u001b[0m\u001b[0;34m\u001b[0m\u001b[0m\n\u001b[0m\u001b[1;32m     64\u001b[0m         \u001b[0;32mexcept\u001b[0m \u001b[0mpy4j\u001b[0m\u001b[0;34m.\u001b[0m\u001b[0mprotocol\u001b[0m\u001b[0;34m.\u001b[0m\u001b[0mPy4JJavaError\u001b[0m \u001b[0;32mas\u001b[0m \u001b[0me\u001b[0m\u001b[0;34m:\u001b[0m\u001b[0;34m\u001b[0m\u001b[0m\n",
            "\u001b[0;32m/opt/spark-2.4.3-bin-hadoop2.7/python/lib/py4j-0.10.7-src.zip/py4j/protocol.py\u001b[0m in \u001b[0;36mget_return_value\u001b[0;34m(answer, gateway_client, target_id, name)\u001b[0m\n\u001b[1;32m    327\u001b[0m                     \u001b[0;34m\"An error occurred while calling {0}{1}{2}.\\n\"\u001b[0m\u001b[0;34m.\u001b[0m\u001b[0;34m\u001b[0m\u001b[0m\n\u001b[0;32m--> 328\u001b[0;31m                     format(target_id, \".\", name), value)\n\u001b[0m\u001b[1;32m    329\u001b[0m             \u001b[0;32melse\u001b[0m\u001b[0;34m:\u001b[0m\u001b[0;34m\u001b[0m\u001b[0m\n",
            "\u001b[0;31mPy4JJavaError\u001b[0m: An error occurred while calling o1623.parquet.\n: org.apache.spark.sql.AnalysisException: path file:/home/workspace/listings_fact_table already exists.;\n\tat org.apache.spark.sql.execution.datasources.InsertIntoHadoopFsRelationCommand.run(InsertIntoHadoopFsRelationCommand.scala:114)\n\tat org.apache.spark.sql.execution.command.DataWritingCommandExec.sideEffectResult$lzycompute(commands.scala:104)\n\tat org.apache.spark.sql.execution.command.DataWritingCommandExec.sideEffectResult(commands.scala:102)\n\tat org.apache.spark.sql.execution.command.DataWritingCommandExec.doExecute(commands.scala:122)\n\tat org.apache.spark.sql.execution.SparkPlan$$anonfun$execute$1.apply(SparkPlan.scala:131)\n\tat org.apache.spark.sql.execution.SparkPlan$$anonfun$execute$1.apply(SparkPlan.scala:127)\n\tat org.apache.spark.sql.execution.SparkPlan$$anonfun$executeQuery$1.apply(SparkPlan.scala:155)\n\tat org.apache.spark.rdd.RDDOperationScope$.withScope(RDDOperationScope.scala:151)\n\tat org.apache.spark.sql.execution.SparkPlan.executeQuery(SparkPlan.scala:152)\n\tat org.apache.spark.sql.execution.SparkPlan.execute(SparkPlan.scala:127)\n\tat org.apache.spark.sql.execution.QueryExecution.toRdd$lzycompute(QueryExecution.scala:80)\n\tat org.apache.spark.sql.execution.QueryExecution.toRdd(QueryExecution.scala:80)\n\tat org.apache.spark.sql.DataFrameWriter$$anonfun$runCommand$1.apply(DataFrameWriter.scala:676)\n\tat org.apache.spark.sql.DataFrameWriter$$anonfun$runCommand$1.apply(DataFrameWriter.scala:676)\n\tat org.apache.spark.sql.execution.SQLExecution$$anonfun$withNewExecutionId$1.apply(SQLExecution.scala:78)\n\tat org.apache.spark.sql.execution.SQLExecution$.withSQLConfPropagated(SQLExecution.scala:125)\n\tat org.apache.spark.sql.execution.SQLExecution$.withNewExecutionId(SQLExecution.scala:73)\n\tat org.apache.spark.sql.DataFrameWriter.runCommand(DataFrameWriter.scala:676)\n\tat org.apache.spark.sql.DataFrameWriter.saveToV1Source(DataFrameWriter.scala:285)\n\tat org.apache.spark.sql.DataFrameWriter.save(DataFrameWriter.scala:271)\n\tat org.apache.spark.sql.DataFrameWriter.save(DataFrameWriter.scala:229)\n\tat org.apache.spark.sql.DataFrameWriter.parquet(DataFrameWriter.scala:566)\n\tat sun.reflect.NativeMethodAccessorImpl.invoke0(Native Method)\n\tat sun.reflect.NativeMethodAccessorImpl.invoke(NativeMethodAccessorImpl.java:62)\n\tat sun.reflect.DelegatingMethodAccessorImpl.invoke(DelegatingMethodAccessorImpl.java:43)\n\tat java.lang.reflect.Method.invoke(Method.java:498)\n\tat py4j.reflection.MethodInvoker.invoke(MethodInvoker.java:244)\n\tat py4j.reflection.ReflectionEngine.invoke(ReflectionEngine.java:357)\n\tat py4j.Gateway.invoke(Gateway.java:282)\n\tat py4j.commands.AbstractCommand.invokeMethod(AbstractCommand.java:132)\n\tat py4j.commands.CallCommand.execute(CallCommand.java:79)\n\tat py4j.GatewayConnection.run(GatewayConnection.java:238)\n\tat java.lang.Thread.run(Thread.java:748)\n",
            "\nDuring handling of the above exception, another exception occurred:\n",
            "\u001b[0;31mAnalysisException\u001b[0m                         Traceback (most recent call last)",
            "\u001b[0;32m<ipython-input-181-dffaee31853a>\u001b[0m in \u001b[0;36m<module>\u001b[0;34m()\u001b[0m\n\u001b[1;32m      1\u001b[0m \u001b[0;31m# Write fact table to parquet\u001b[0m\u001b[0;34m\u001b[0m\u001b[0;34m\u001b[0m\u001b[0m\n\u001b[0;32m----> 2\u001b[0;31m \u001b[0mlistings_fact_table\u001b[0m\u001b[0;34m.\u001b[0m\u001b[0mwrite\u001b[0m\u001b[0;34m.\u001b[0m\u001b[0mparquet\u001b[0m\u001b[0;34m(\u001b[0m\u001b[0;34m\"listings_fact_table\"\u001b[0m\u001b[0;34m)\u001b[0m\u001b[0;34m\u001b[0m\u001b[0m\n\u001b[0m",
            "\u001b[0;32m/opt/spark-2.4.3-bin-hadoop2.7/python/pyspark/sql/readwriter.py\u001b[0m in \u001b[0;36mparquet\u001b[0;34m(self, path, mode, partitionBy, compression)\u001b[0m\n\u001b[1;32m    837\u001b[0m             \u001b[0mself\u001b[0m\u001b[0;34m.\u001b[0m\u001b[0mpartitionBy\u001b[0m\u001b[0;34m(\u001b[0m\u001b[0mpartitionBy\u001b[0m\u001b[0;34m)\u001b[0m\u001b[0;34m\u001b[0m\u001b[0m\n\u001b[1;32m    838\u001b[0m         \u001b[0mself\u001b[0m\u001b[0;34m.\u001b[0m\u001b[0m_set_opts\u001b[0m\u001b[0;34m(\u001b[0m\u001b[0mcompression\u001b[0m\u001b[0;34m=\u001b[0m\u001b[0mcompression\u001b[0m\u001b[0;34m)\u001b[0m\u001b[0;34m\u001b[0m\u001b[0m\n\u001b[0;32m--> 839\u001b[0;31m         \u001b[0mself\u001b[0m\u001b[0;34m.\u001b[0m\u001b[0m_jwrite\u001b[0m\u001b[0;34m.\u001b[0m\u001b[0mparquet\u001b[0m\u001b[0;34m(\u001b[0m\u001b[0mpath\u001b[0m\u001b[0;34m)\u001b[0m\u001b[0;34m\u001b[0m\u001b[0m\n\u001b[0m\u001b[1;32m    840\u001b[0m \u001b[0;34m\u001b[0m\u001b[0m\n\u001b[1;32m    841\u001b[0m     \u001b[0;34m@\u001b[0m\u001b[0msince\u001b[0m\u001b[0;34m(\u001b[0m\u001b[0;36m1.6\u001b[0m\u001b[0;34m)\u001b[0m\u001b[0;34m\u001b[0m\u001b[0m\n",
            "\u001b[0;32m/opt/spark-2.4.3-bin-hadoop2.7/python/lib/py4j-0.10.7-src.zip/py4j/java_gateway.py\u001b[0m in \u001b[0;36m__call__\u001b[0;34m(self, *args)\u001b[0m\n\u001b[1;32m   1255\u001b[0m         \u001b[0manswer\u001b[0m \u001b[0;34m=\u001b[0m \u001b[0mself\u001b[0m\u001b[0;34m.\u001b[0m\u001b[0mgateway_client\u001b[0m\u001b[0;34m.\u001b[0m\u001b[0msend_command\u001b[0m\u001b[0;34m(\u001b[0m\u001b[0mcommand\u001b[0m\u001b[0;34m)\u001b[0m\u001b[0;34m\u001b[0m\u001b[0m\n\u001b[1;32m   1256\u001b[0m         return_value = get_return_value(\n\u001b[0;32m-> 1257\u001b[0;31m             answer, self.gateway_client, self.target_id, self.name)\n\u001b[0m\u001b[1;32m   1258\u001b[0m \u001b[0;34m\u001b[0m\u001b[0m\n\u001b[1;32m   1259\u001b[0m         \u001b[0;32mfor\u001b[0m \u001b[0mtemp_arg\u001b[0m \u001b[0;32min\u001b[0m \u001b[0mtemp_args\u001b[0m\u001b[0;34m:\u001b[0m\u001b[0;34m\u001b[0m\u001b[0m\n",
            "\u001b[0;32m/opt/spark-2.4.3-bin-hadoop2.7/python/pyspark/sql/utils.py\u001b[0m in \u001b[0;36mdeco\u001b[0;34m(*a, **kw)\u001b[0m\n\u001b[1;32m     67\u001b[0m                                              e.java_exception.getStackTrace()))\n\u001b[1;32m     68\u001b[0m             \u001b[0;32mif\u001b[0m \u001b[0ms\u001b[0m\u001b[0;34m.\u001b[0m\u001b[0mstartswith\u001b[0m\u001b[0;34m(\u001b[0m\u001b[0;34m'org.apache.spark.sql.AnalysisException: '\u001b[0m\u001b[0;34m)\u001b[0m\u001b[0;34m:\u001b[0m\u001b[0;34m\u001b[0m\u001b[0m\n\u001b[0;32m---> 69\u001b[0;31m                 \u001b[0;32mraise\u001b[0m \u001b[0mAnalysisException\u001b[0m\u001b[0;34m(\u001b[0m\u001b[0ms\u001b[0m\u001b[0;34m.\u001b[0m\u001b[0msplit\u001b[0m\u001b[0;34m(\u001b[0m\u001b[0;34m': '\u001b[0m\u001b[0;34m,\u001b[0m \u001b[0;36m1\u001b[0m\u001b[0;34m)\u001b[0m\u001b[0;34m[\u001b[0m\u001b[0;36m1\u001b[0m\u001b[0;34m]\u001b[0m\u001b[0;34m,\u001b[0m \u001b[0mstackTrace\u001b[0m\u001b[0;34m)\u001b[0m\u001b[0;34m\u001b[0m\u001b[0m\n\u001b[0m\u001b[1;32m     70\u001b[0m             \u001b[0;32mif\u001b[0m \u001b[0ms\u001b[0m\u001b[0;34m.\u001b[0m\u001b[0mstartswith\u001b[0m\u001b[0;34m(\u001b[0m\u001b[0;34m'org.apache.spark.sql.catalyst.analysis'\u001b[0m\u001b[0;34m)\u001b[0m\u001b[0;34m:\u001b[0m\u001b[0;34m\u001b[0m\u001b[0m\n\u001b[1;32m     71\u001b[0m                 \u001b[0;32mraise\u001b[0m \u001b[0mAnalysisException\u001b[0m\u001b[0;34m(\u001b[0m\u001b[0ms\u001b[0m\u001b[0;34m.\u001b[0m\u001b[0msplit\u001b[0m\u001b[0;34m(\u001b[0m\u001b[0;34m': '\u001b[0m\u001b[0;34m,\u001b[0m \u001b[0;36m1\u001b[0m\u001b[0;34m)\u001b[0m\u001b[0;34m[\u001b[0m\u001b[0;36m1\u001b[0m\u001b[0;34m]\u001b[0m\u001b[0;34m,\u001b[0m \u001b[0mstackTrace\u001b[0m\u001b[0;34m)\u001b[0m\u001b[0;34m\u001b[0m\u001b[0m\n",
            "\u001b[0;31mAnalysisException\u001b[0m: 'path file:/home/workspace/listings_fact_table already exists.;'"
          ]
        }
      ]
    },
    {
      "cell_type": "code",
      "metadata": {
        "editable": true,
        "id": "hPCYrcNtiaH5",
        "colab_type": "code",
        "outputId": "d2384ca5-640b-4e9a-b7ca-8507ef1d16e3",
        "colab": {}
      },
      "source": [
        "listings_fact_table.toDF('listing_id', ' host_id', 'host_name', 'numbert_of_listings', \\\n",
        "          'listing_date').show(5)"
      ],
      "execution_count": 0,
      "outputs": [
        {
          "output_type": "stream",
          "text": [
            "+----------+--------+---------+-------------------+------------+\n",
            "|listing_id| host_id|host_name|numbert_of_listings|listing_date|\n",
            "+----------+--------+---------+-------------------+------------+\n",
            "|    167183|  796746| Consuelo|                  2|  2019-09-20|\n",
            "|    167183|  796746| Consuelo|                  2|  2019-09-23|\n",
            "|    167183|  796746| Consuelo|                  2|  2019-09-25|\n",
            "|    167183|  796746| Consuelo|                  2|  2019-10-17|\n",
            "|    167183|  796746| Consuelo|                  2|  2019-10-04|\n",
            "+----------+--------+---------+-------------------+------------+\n",
            "only showing top 5 rows\n",
            "\n"
          ],
          "name": "stdout"
        }
      ]
    },
    {
      "cell_type": "markdown",
      "metadata": {
        "editable": true,
        "id": "AiT5mFsFiaH8",
        "colab_type": "text"
      },
      "source": [
        "#### 4.2 Data Quality Checks\n",
        "To ensure the pipeline ran as expected data will br checked if listings_id is not null and has no dublicate. These could include:\n",
        " * Integrity constraints on the relational database (e.g., unique key, data type, etc.)\n",
        " * Unit tests for the scripts to ensure they are doing the right thing\n",
        " * Source/Count checks to ensure completeness\n",
        " \n",
        "Run Quality Checks"
      ]
    },
    {
      "cell_type": "code",
      "metadata": {
        "editable": true,
        "id": "n987xhKiiaH9",
        "colab_type": "code",
        "outputId": "ba7da1c1-7653-41d1-c3a1-c28220fcfeae",
        "colab": {}
      },
      "source": [
        "# Check for NULL values in listing_id what should be unique.\n",
        "# If false is retured for  column selected then the data is fine across the dataset\n",
        "listings_fact_table.select(isnull('listing_id').alias('listing_id')).dropDuplicates().show()"
      ],
      "execution_count": 0,
      "outputs": [
        {
          "output_type": "stream",
          "text": [
            "+----------+\n",
            "|listing_id|\n",
            "+----------+\n",
            "|     false|\n",
            "+----------+\n",
            "\n"
          ],
          "name": "stdout"
        }
      ]
    },
    {
      "cell_type": "code",
      "metadata": {
        "editable": true,
        "id": "Fabk0kLmiaIF",
        "colab_type": "code",
        "outputId": "3b5ecad9-661b-4e10-f131-3b8779984702",
        "colab": {}
      },
      "source": [
        "# apply the query that answer analyst question\n",
        "# 1. query the max number of listings \n",
        "listings_fact_table.select(max('numbert_of_listings').alias('calculated_host_listings_count')).show()"
      ],
      "execution_count": 0,
      "outputs": [
        {
          "output_type": "stream",
          "text": [
            "+------------------------------+\n",
            "|calculated_host_listings_count|\n",
            "+------------------------------+\n",
            "|                             9|\n",
            "+------------------------------+\n",
            "\n"
          ],
          "name": "stdout"
        }
      ]
    },
    {
      "cell_type": "code",
      "metadata": {
        "editable": true,
        "id": "zHWW0pJ3iaII",
        "colab_type": "code",
        "outputId": "e79e6af9-5d5e-499f-9b28-83388680b188",
        "colab": {}
      },
      "source": [
        "# quert the host_name , listing_id and   has 9 listings as max listings number\n",
        "listings_fact_table.select([\"listing_id\", \"host_name\", \"numbert_of_listings\"]).where(listings_fact_table.numbert_of_listings ==9).sort(\"host_name\").collect()"
      ],
      "execution_count": 0,
      "outputs": [
        {
          "output_type": "execute_result",
          "data": {
            "text/plain": [
              "[Row(listing_id='119389', host_name='Alvaro', numbert_of_listings='9'),\n",
              " Row(listing_id='119389', host_name='Alvaro', numbert_of_listings='9'),\n",
              " Row(listing_id='119389', host_name='Alvaro', numbert_of_listings='9'),\n",
              " Row(listing_id='119389', host_name='Alvaro', numbert_of_listings='9'),\n",
              " Row(listing_id='119389', host_name='Alvaro', numbert_of_listings='9'),\n",
              " Row(listing_id='119389', host_name='Alvaro', numbert_of_listings='9'),\n",
              " Row(listing_id='119389', host_name='Alvaro', numbert_of_listings='9'),\n",
              " Row(listing_id='119389', host_name='Alvaro', numbert_of_listings='9'),\n",
              " Row(listing_id='119389', host_name='Alvaro', numbert_of_listings='9'),\n",
              " Row(listing_id='119389', host_name='Alvaro', numbert_of_listings='9'),\n",
              " Row(listing_id='119389', host_name='Alvaro', numbert_of_listings='9'),\n",
              " Row(listing_id='119389', host_name='Alvaro', numbert_of_listings='9'),\n",
              " Row(listing_id='119389', host_name='Alvaro', numbert_of_listings='9'),\n",
              " Row(listing_id='119389', host_name='Alvaro', numbert_of_listings='9'),\n",
              " Row(listing_id='119389', host_name='Alvaro', numbert_of_listings='9'),\n",
              " Row(listing_id='119389', host_name='Alvaro', numbert_of_listings='9'),\n",
              " Row(listing_id='119389', host_name='Alvaro', numbert_of_listings='9'),\n",
              " Row(listing_id='119389', host_name='Alvaro', numbert_of_listings='9'),\n",
              " Row(listing_id='119389', host_name='Alvaro', numbert_of_listings='9'),\n",
              " Row(listing_id='119389', host_name='Alvaro', numbert_of_listings='9'),\n",
              " Row(listing_id='119389', host_name='Alvaro', numbert_of_listings='9'),\n",
              " Row(listing_id='119389', host_name='Alvaro', numbert_of_listings='9'),\n",
              " Row(listing_id='119389', host_name='Alvaro', numbert_of_listings='9'),\n",
              " Row(listing_id='119389', host_name='Alvaro', numbert_of_listings='9'),\n",
              " Row(listing_id='119389', host_name='Alvaro', numbert_of_listings='9'),\n",
              " Row(listing_id='119389', host_name='Alvaro', numbert_of_listings='9'),\n",
              " Row(listing_id='119389', host_name='Alvaro', numbert_of_listings='9'),\n",
              " Row(listing_id='119389', host_name='Alvaro', numbert_of_listings='9'),\n",
              " Row(listing_id='119389', host_name='Alvaro', numbert_of_listings='9'),\n",
              " Row(listing_id='119389', host_name='Alvaro', numbert_of_listings='9'),\n",
              " Row(listing_id='119389', host_name='Alvaro', numbert_of_listings='9'),\n",
              " Row(listing_id='119389', host_name='Alvaro', numbert_of_listings='9'),\n",
              " Row(listing_id='119389', host_name='Alvaro', numbert_of_listings='9'),\n",
              " Row(listing_id='119389', host_name='Alvaro', numbert_of_listings='9'),\n",
              " Row(listing_id='119389', host_name='Alvaro', numbert_of_listings='9'),\n",
              " Row(listing_id='119389', host_name='Alvaro', numbert_of_listings='9'),\n",
              " Row(listing_id='119389', host_name='Alvaro', numbert_of_listings='9'),\n",
              " Row(listing_id='119389', host_name='Alvaro', numbert_of_listings='9'),\n",
              " Row(listing_id='119389', host_name='Alvaro', numbert_of_listings='9'),\n",
              " Row(listing_id='119389', host_name='Alvaro', numbert_of_listings='9'),\n",
              " Row(listing_id='119389', host_name='Alvaro', numbert_of_listings='9'),\n",
              " Row(listing_id='119389', host_name='Alvaro', numbert_of_listings='9'),\n",
              " Row(listing_id='762701', host_name='Alvaro', numbert_of_listings='9'),\n",
              " Row(listing_id='762701', host_name='Alvaro', numbert_of_listings='9'),\n",
              " Row(listing_id='762701', host_name='Alvaro', numbert_of_listings='9'),\n",
              " Row(listing_id='762701', host_name='Alvaro', numbert_of_listings='9'),\n",
              " Row(listing_id='762701', host_name='Alvaro', numbert_of_listings='9'),\n",
              " Row(listing_id='762701', host_name='Alvaro', numbert_of_listings='9'),\n",
              " Row(listing_id='762701', host_name='Alvaro', numbert_of_listings='9'),\n",
              " Row(listing_id='762701', host_name='Alvaro', numbert_of_listings='9'),\n",
              " Row(listing_id='762701', host_name='Alvaro', numbert_of_listings='9'),\n",
              " Row(listing_id='762701', host_name='Alvaro', numbert_of_listings='9'),\n",
              " Row(listing_id='762701', host_name='Alvaro', numbert_of_listings='9'),\n",
              " Row(listing_id='762701', host_name='Alvaro', numbert_of_listings='9'),\n",
              " Row(listing_id='762701', host_name='Alvaro', numbert_of_listings='9'),\n",
              " Row(listing_id='762701', host_name='Alvaro', numbert_of_listings='9'),\n",
              " Row(listing_id='762701', host_name='Alvaro', numbert_of_listings='9'),\n",
              " Row(listing_id='762701', host_name='Alvaro', numbert_of_listings='9'),\n",
              " Row(listing_id='762701', host_name='Alvaro', numbert_of_listings='9'),\n",
              " Row(listing_id='762701', host_name='Alvaro', numbert_of_listings='9'),\n",
              " Row(listing_id='762701', host_name='Alvaro', numbert_of_listings='9'),\n",
              " Row(listing_id='762701', host_name='Alvaro', numbert_of_listings='9'),\n",
              " Row(listing_id='762701', host_name='Alvaro', numbert_of_listings='9'),\n",
              " Row(listing_id='762701', host_name='Alvaro', numbert_of_listings='9'),\n",
              " Row(listing_id='762701', host_name='Alvaro', numbert_of_listings='9'),\n",
              " Row(listing_id='762701', host_name='Alvaro', numbert_of_listings='9'),\n",
              " Row(listing_id='762701', host_name='Alvaro', numbert_of_listings='9'),\n",
              " Row(listing_id='762701', host_name='Alvaro', numbert_of_listings='9'),\n",
              " Row(listing_id='762701', host_name='Alvaro', numbert_of_listings='9'),\n",
              " Row(listing_id='762701', host_name='Alvaro', numbert_of_listings='9'),\n",
              " Row(listing_id='762701', host_name='Alvaro', numbert_of_listings='9'),\n",
              " Row(listing_id='762701', host_name='Alvaro', numbert_of_listings='9'),\n",
              " Row(listing_id='762701', host_name='Alvaro', numbert_of_listings='9'),\n",
              " Row(listing_id='762701', host_name='Alvaro', numbert_of_listings='9'),\n",
              " Row(listing_id='762701', host_name='Alvaro', numbert_of_listings='9'),\n",
              " Row(listing_id='762701', host_name='Alvaro', numbert_of_listings='9'),\n",
              " Row(listing_id='762701', host_name='Alvaro', numbert_of_listings='9'),\n",
              " Row(listing_id='762701', host_name='Alvaro', numbert_of_listings='9'),\n",
              " Row(listing_id='762701', host_name='Alvaro', numbert_of_listings='9'),\n",
              " Row(listing_id='762701', host_name='Alvaro', numbert_of_listings='9'),\n",
              " Row(listing_id='762701', host_name='Alvaro', numbert_of_listings='9'),\n",
              " Row(listing_id='762701', host_name='Alvaro', numbert_of_listings='9'),\n",
              " Row(listing_id='762701', host_name='Alvaro', numbert_of_listings='9'),\n",
              " Row(listing_id='762701', host_name='Alvaro', numbert_of_listings='9'),\n",
              " Row(listing_id='72955', host_name='Alvaro', numbert_of_listings='9'),\n",
              " Row(listing_id='72955', host_name='Alvaro', numbert_of_listings='9'),\n",
              " Row(listing_id='72955', host_name='Alvaro', numbert_of_listings='9'),\n",
              " Row(listing_id='72955', host_name='Alvaro', numbert_of_listings='9'),\n",
              " Row(listing_id='72955', host_name='Alvaro', numbert_of_listings='9'),\n",
              " Row(listing_id='72955', host_name='Alvaro', numbert_of_listings='9'),\n",
              " Row(listing_id='72955', host_name='Alvaro', numbert_of_listings='9'),\n",
              " Row(listing_id='72955', host_name='Alvaro', numbert_of_listings='9'),\n",
              " Row(listing_id='72955', host_name='Alvaro', numbert_of_listings='9'),\n",
              " Row(listing_id='72955', host_name='Alvaro', numbert_of_listings='9'),\n",
              " Row(listing_id='72955', host_name='Alvaro', numbert_of_listings='9'),\n",
              " Row(listing_id='72955', host_name='Alvaro', numbert_of_listings='9'),\n",
              " Row(listing_id='72955', host_name='Alvaro', numbert_of_listings='9'),\n",
              " Row(listing_id='72955', host_name='Alvaro', numbert_of_listings='9'),\n",
              " Row(listing_id='72955', host_name='Alvaro', numbert_of_listings='9'),\n",
              " Row(listing_id='72955', host_name='Alvaro', numbert_of_listings='9'),\n",
              " Row(listing_id='72955', host_name='Alvaro', numbert_of_listings='9'),\n",
              " Row(listing_id='72955', host_name='Alvaro', numbert_of_listings='9'),\n",
              " Row(listing_id='72955', host_name='Alvaro', numbert_of_listings='9'),\n",
              " Row(listing_id='72955', host_name='Alvaro', numbert_of_listings='9'),\n",
              " Row(listing_id='72955', host_name='Alvaro', numbert_of_listings='9'),\n",
              " Row(listing_id='72955', host_name='Alvaro', numbert_of_listings='9'),\n",
              " Row(listing_id='72955', host_name='Alvaro', numbert_of_listings='9'),\n",
              " Row(listing_id='72955', host_name='Alvaro', numbert_of_listings='9'),\n",
              " Row(listing_id='72955', host_name='Alvaro', numbert_of_listings='9'),\n",
              " Row(listing_id='72955', host_name='Alvaro', numbert_of_listings='9'),\n",
              " Row(listing_id='72955', host_name='Alvaro', numbert_of_listings='9'),\n",
              " Row(listing_id='72955', host_name='Alvaro', numbert_of_listings='9'),\n",
              " Row(listing_id='72955', host_name='Alvaro', numbert_of_listings='9'),\n",
              " Row(listing_id='72955', host_name='Alvaro', numbert_of_listings='9'),\n",
              " Row(listing_id='72955', host_name='Alvaro', numbert_of_listings='9'),\n",
              " Row(listing_id='72955', host_name='Alvaro', numbert_of_listings='9'),\n",
              " Row(listing_id='72955', host_name='Alvaro', numbert_of_listings='9'),\n",
              " Row(listing_id='72955', host_name='Alvaro', numbert_of_listings='9'),\n",
              " Row(listing_id='72955', host_name='Alvaro', numbert_of_listings='9'),\n",
              " Row(listing_id='72955', host_name='Alvaro', numbert_of_listings='9'),\n",
              " Row(listing_id='72955', host_name='Alvaro', numbert_of_listings='9'),\n",
              " Row(listing_id='72955', host_name='Alvaro', numbert_of_listings='9'),\n",
              " Row(listing_id='72955', host_name='Alvaro', numbert_of_listings='9'),\n",
              " Row(listing_id='72955', host_name='Alvaro', numbert_of_listings='9'),\n",
              " Row(listing_id='72955', host_name='Alvaro', numbert_of_listings='9'),\n",
              " Row(listing_id='72955', host_name='Alvaro', numbert_of_listings='9'),\n",
              " Row(listing_id='256004', host_name='Anouk', numbert_of_listings='9'),\n",
              " Row(listing_id='256004', host_name='Anouk', numbert_of_listings='9'),\n",
              " Row(listing_id='256004', host_name='Anouk', numbert_of_listings='9'),\n",
              " Row(listing_id='256004', host_name='Anouk', numbert_of_listings='9'),\n",
              " Row(listing_id='256004', host_name='Anouk', numbert_of_listings='9'),\n",
              " Row(listing_id='256004', host_name='Anouk', numbert_of_listings='9'),\n",
              " Row(listing_id='256004', host_name='Anouk', numbert_of_listings='9'),\n",
              " Row(listing_id='256004', host_name='Anouk', numbert_of_listings='9'),\n",
              " Row(listing_id='256004', host_name='Anouk', numbert_of_listings='9'),\n",
              " Row(listing_id='256004', host_name='Anouk', numbert_of_listings='9'),\n",
              " Row(listing_id='256004', host_name='Anouk', numbert_of_listings='9'),\n",
              " Row(listing_id='256004', host_name='Anouk', numbert_of_listings='9'),\n",
              " Row(listing_id='256004', host_name='Anouk', numbert_of_listings='9'),\n",
              " Row(listing_id='256004', host_name='Anouk', numbert_of_listings='9'),\n",
              " Row(listing_id='256004', host_name='Anouk', numbert_of_listings='9'),\n",
              " Row(listing_id='256004', host_name='Anouk', numbert_of_listings='9'),\n",
              " Row(listing_id='256004', host_name='Anouk', numbert_of_listings='9'),\n",
              " Row(listing_id='256004', host_name='Anouk', numbert_of_listings='9'),\n",
              " Row(listing_id='256004', host_name='Anouk', numbert_of_listings='9'),\n",
              " Row(listing_id='256004', host_name='Anouk', numbert_of_listings='9'),\n",
              " Row(listing_id='256004', host_name='Anouk', numbert_of_listings='9'),\n",
              " Row(listing_id='256004', host_name='Anouk', numbert_of_listings='9'),\n",
              " Row(listing_id='256004', host_name='Anouk', numbert_of_listings='9'),\n",
              " Row(listing_id='256004', host_name='Anouk', numbert_of_listings='9'),\n",
              " Row(listing_id='256004', host_name='Anouk', numbert_of_listings='9'),\n",
              " Row(listing_id='256004', host_name='Anouk', numbert_of_listings='9'),\n",
              " Row(listing_id='256004', host_name='Anouk', numbert_of_listings='9'),\n",
              " Row(listing_id='256004', host_name='Anouk', numbert_of_listings='9'),\n",
              " Row(listing_id='256004', host_name='Anouk', numbert_of_listings='9'),\n",
              " Row(listing_id='256004', host_name='Anouk', numbert_of_listings='9'),\n",
              " Row(listing_id='256004', host_name='Anouk', numbert_of_listings='9'),\n",
              " Row(listing_id='256004', host_name='Anouk', numbert_of_listings='9'),\n",
              " Row(listing_id='256004', host_name='Anouk', numbert_of_listings='9'),\n",
              " Row(listing_id='256004', host_name='Anouk', numbert_of_listings='9'),\n",
              " Row(listing_id='256004', host_name='Anouk', numbert_of_listings='9'),\n",
              " Row(listing_id='256004', host_name='Anouk', numbert_of_listings='9'),\n",
              " Row(listing_id='256004', host_name='Anouk', numbert_of_listings='9'),\n",
              " Row(listing_id='256004', host_name='Anouk', numbert_of_listings='9'),\n",
              " Row(listing_id='256004', host_name='Anouk', numbert_of_listings='9'),\n",
              " Row(listing_id='256004', host_name='Anouk', numbert_of_listings='9'),\n",
              " Row(listing_id='256004', host_name='Anouk', numbert_of_listings='9'),\n",
              " Row(listing_id='256004', host_name='Anouk', numbert_of_listings='9'),\n",
              " Row(listing_id='217674', host_name='Anouk', numbert_of_listings='9'),\n",
              " Row(listing_id='217674', host_name='Anouk', numbert_of_listings='9'),\n",
              " Row(listing_id='217674', host_name='Anouk', numbert_of_listings='9'),\n",
              " Row(listing_id='217674', host_name='Anouk', numbert_of_listings='9'),\n",
              " Row(listing_id='217674', host_name='Anouk', numbert_of_listings='9'),\n",
              " Row(listing_id='217674', host_name='Anouk', numbert_of_listings='9'),\n",
              " Row(listing_id='217674', host_name='Anouk', numbert_of_listings='9'),\n",
              " Row(listing_id='217674', host_name='Anouk', numbert_of_listings='9'),\n",
              " Row(listing_id='217674', host_name='Anouk', numbert_of_listings='9'),\n",
              " Row(listing_id='217674', host_name='Anouk', numbert_of_listings='9'),\n",
              " Row(listing_id='217674', host_name='Anouk', numbert_of_listings='9'),\n",
              " Row(listing_id='217674', host_name='Anouk', numbert_of_listings='9'),\n",
              " Row(listing_id='217674', host_name='Anouk', numbert_of_listings='9'),\n",
              " Row(listing_id='217674', host_name='Anouk', numbert_of_listings='9'),\n",
              " Row(listing_id='217674', host_name='Anouk', numbert_of_listings='9'),\n",
              " Row(listing_id='217674', host_name='Anouk', numbert_of_listings='9'),\n",
              " Row(listing_id='217674', host_name='Anouk', numbert_of_listings='9'),\n",
              " Row(listing_id='217674', host_name='Anouk', numbert_of_listings='9'),\n",
              " Row(listing_id='217674', host_name='Anouk', numbert_of_listings='9'),\n",
              " Row(listing_id='217674', host_name='Anouk', numbert_of_listings='9'),\n",
              " Row(listing_id='217674', host_name='Anouk', numbert_of_listings='9'),\n",
              " Row(listing_id='217674', host_name='Anouk', numbert_of_listings='9'),\n",
              " Row(listing_id='217674', host_name='Anouk', numbert_of_listings='9'),\n",
              " Row(listing_id='217674', host_name='Anouk', numbert_of_listings='9'),\n",
              " Row(listing_id='217674', host_name='Anouk', numbert_of_listings='9'),\n",
              " Row(listing_id='217674', host_name='Anouk', numbert_of_listings='9'),\n",
              " Row(listing_id='217674', host_name='Anouk', numbert_of_listings='9'),\n",
              " Row(listing_id='217674', host_name='Anouk', numbert_of_listings='9'),\n",
              " Row(listing_id='217674', host_name='Anouk', numbert_of_listings='9'),\n",
              " Row(listing_id='217674', host_name='Anouk', numbert_of_listings='9'),\n",
              " Row(listing_id='217674', host_name='Anouk', numbert_of_listings='9'),\n",
              " Row(listing_id='217674', host_name='Anouk', numbert_of_listings='9'),\n",
              " Row(listing_id='217674', host_name='Anouk', numbert_of_listings='9'),\n",
              " Row(listing_id='217674', host_name='Anouk', numbert_of_listings='9'),\n",
              " Row(listing_id='217674', host_name='Anouk', numbert_of_listings='9'),\n",
              " Row(listing_id='217674', host_name='Anouk', numbert_of_listings='9'),\n",
              " Row(listing_id='217674', host_name='Anouk', numbert_of_listings='9'),\n",
              " Row(listing_id='217674', host_name='Anouk', numbert_of_listings='9'),\n",
              " Row(listing_id='217674', host_name='Anouk', numbert_of_listings='9'),\n",
              " Row(listing_id='217674', host_name='Anouk', numbert_of_listings='9'),\n",
              " Row(listing_id='217674', host_name='Anouk', numbert_of_listings='9'),\n",
              " Row(listing_id='217674', host_name='Anouk', numbert_of_listings='9'),\n",
              " Row(listing_id='688795', host_name='Anouk', numbert_of_listings='9'),\n",
              " Row(listing_id='688795', host_name='Anouk', numbert_of_listings='9'),\n",
              " Row(listing_id='688795', host_name='Anouk', numbert_of_listings='9'),\n",
              " Row(listing_id='688795', host_name='Anouk', numbert_of_listings='9'),\n",
              " Row(listing_id='688795', host_name='Anouk', numbert_of_listings='9'),\n",
              " Row(listing_id='688795', host_name='Anouk', numbert_of_listings='9'),\n",
              " Row(listing_id='688795', host_name='Anouk', numbert_of_listings='9'),\n",
              " Row(listing_id='688795', host_name='Anouk', numbert_of_listings='9'),\n",
              " Row(listing_id='688795', host_name='Anouk', numbert_of_listings='9'),\n",
              " Row(listing_id='688795', host_name='Anouk', numbert_of_listings='9'),\n",
              " Row(listing_id='688795', host_name='Anouk', numbert_of_listings='9'),\n",
              " Row(listing_id='688795', host_name='Anouk', numbert_of_listings='9'),\n",
              " Row(listing_id='688795', host_name='Anouk', numbert_of_listings='9'),\n",
              " Row(listing_id='688795', host_name='Anouk', numbert_of_listings='9'),\n",
              " Row(listing_id='688795', host_name='Anouk', numbert_of_listings='9'),\n",
              " Row(listing_id='688795', host_name='Anouk', numbert_of_listings='9'),\n",
              " Row(listing_id='688795', host_name='Anouk', numbert_of_listings='9'),\n",
              " Row(listing_id='688795', host_name='Anouk', numbert_of_listings='9'),\n",
              " Row(listing_id='688795', host_name='Anouk', numbert_of_listings='9'),\n",
              " Row(listing_id='688795', host_name='Anouk', numbert_of_listings='9'),\n",
              " Row(listing_id='688795', host_name='Anouk', numbert_of_listings='9'),\n",
              " Row(listing_id='688795', host_name='Anouk', numbert_of_listings='9'),\n",
              " Row(listing_id='688795', host_name='Anouk', numbert_of_listings='9'),\n",
              " Row(listing_id='688795', host_name='Anouk', numbert_of_listings='9'),\n",
              " Row(listing_id='688795', host_name='Anouk', numbert_of_listings='9'),\n",
              " Row(listing_id='688795', host_name='Anouk', numbert_of_listings='9'),\n",
              " Row(listing_id='688795', host_name='Anouk', numbert_of_listings='9'),\n",
              " Row(listing_id='688795', host_name='Anouk', numbert_of_listings='9'),\n",
              " Row(listing_id='688795', host_name='Anouk', numbert_of_listings='9'),\n",
              " Row(listing_id='688795', host_name='Anouk', numbert_of_listings='9'),\n",
              " Row(listing_id='688795', host_name='Anouk', numbert_of_listings='9'),\n",
              " Row(listing_id='688795', host_name='Anouk', numbert_of_listings='9'),\n",
              " Row(listing_id='688795', host_name='Anouk', numbert_of_listings='9'),\n",
              " Row(listing_id='688795', host_name='Anouk', numbert_of_listings='9'),\n",
              " Row(listing_id='688795', host_name='Anouk', numbert_of_listings='9'),\n",
              " Row(listing_id='688795', host_name='Anouk', numbert_of_listings='9'),\n",
              " Row(listing_id='688795', host_name='Anouk', numbert_of_listings='9'),\n",
              " Row(listing_id='688795', host_name='Anouk', numbert_of_listings='9'),\n",
              " Row(listing_id='688795', host_name='Anouk', numbert_of_listings='9'),\n",
              " Row(listing_id='688795', host_name='Anouk', numbert_of_listings='9'),\n",
              " Row(listing_id='688795', host_name='Anouk', numbert_of_listings='9'),\n",
              " Row(listing_id='688795', host_name='Anouk', numbert_of_listings='9'),\n",
              " Row(listing_id='967421', host_name='Daniel', numbert_of_listings='9'),\n",
              " Row(listing_id='967421', host_name='Daniel', numbert_of_listings='9'),\n",
              " Row(listing_id='967421', host_name='Daniel', numbert_of_listings='9'),\n",
              " Row(listing_id='967421', host_name='Daniel', numbert_of_listings='9'),\n",
              " Row(listing_id='967421', host_name='Daniel', numbert_of_listings='9'),\n",
              " Row(listing_id='967421', host_name='Daniel', numbert_of_listings='9'),\n",
              " Row(listing_id='967421', host_name='Daniel', numbert_of_listings='9'),\n",
              " Row(listing_id='967421', host_name='Daniel', numbert_of_listings='9'),\n",
              " Row(listing_id='967421', host_name='Daniel', numbert_of_listings='9'),\n",
              " Row(listing_id='967421', host_name='Daniel', numbert_of_listings='9'),\n",
              " Row(listing_id='967421', host_name='Daniel', numbert_of_listings='9'),\n",
              " Row(listing_id='967421', host_name='Daniel', numbert_of_listings='9'),\n",
              " Row(listing_id='967421', host_name='Daniel', numbert_of_listings='9'),\n",
              " Row(listing_id='967421', host_name='Daniel', numbert_of_listings='9'),\n",
              " Row(listing_id='967421', host_name='Daniel', numbert_of_listings='9'),\n",
              " Row(listing_id='967421', host_name='Daniel', numbert_of_listings='9'),\n",
              " Row(listing_id='967421', host_name='Daniel', numbert_of_listings='9'),\n",
              " Row(listing_id='967421', host_name='Daniel', numbert_of_listings='9'),\n",
              " Row(listing_id='967421', host_name='Daniel', numbert_of_listings='9'),\n",
              " Row(listing_id='967421', host_name='Daniel', numbert_of_listings='9'),\n",
              " Row(listing_id='967421', host_name='Daniel', numbert_of_listings='9'),\n",
              " Row(listing_id='967421', host_name='Daniel', numbert_of_listings='9'),\n",
              " Row(listing_id='967421', host_name='Daniel', numbert_of_listings='9'),\n",
              " Row(listing_id='967421', host_name='Daniel', numbert_of_listings='9'),\n",
              " Row(listing_id='967421', host_name='Daniel', numbert_of_listings='9'),\n",
              " Row(listing_id='967421', host_name='Daniel', numbert_of_listings='9'),\n",
              " Row(listing_id='967421', host_name='Daniel', numbert_of_listings='9'),\n",
              " Row(listing_id='967421', host_name='Daniel', numbert_of_listings='9'),\n",
              " Row(listing_id='967421', host_name='Daniel', numbert_of_listings='9'),\n",
              " Row(listing_id='967421', host_name='Daniel', numbert_of_listings='9'),\n",
              " Row(listing_id='967421', host_name='Daniel', numbert_of_listings='9'),\n",
              " Row(listing_id='967421', host_name='Daniel', numbert_of_listings='9'),\n",
              " Row(listing_id='967421', host_name='Daniel', numbert_of_listings='9'),\n",
              " Row(listing_id='967421', host_name='Daniel', numbert_of_listings='9'),\n",
              " Row(listing_id='967421', host_name='Daniel', numbert_of_listings='9'),\n",
              " Row(listing_id='967421', host_name='Daniel', numbert_of_listings='9'),\n",
              " Row(listing_id='967421', host_name='Daniel', numbert_of_listings='9'),\n",
              " Row(listing_id='967421', host_name='Daniel', numbert_of_listings='9'),\n",
              " Row(listing_id='967421', host_name='Daniel', numbert_of_listings='9'),\n",
              " Row(listing_id='967421', host_name='Daniel', numbert_of_listings='9'),\n",
              " Row(listing_id='967421', host_name='Daniel', numbert_of_listings='9'),\n",
              " Row(listing_id='967421', host_name='Daniel', numbert_of_listings='9'),\n",
              " Row(listing_id='150123', host_name='Eloisa', numbert_of_listings='9'),\n",
              " Row(listing_id='150123', host_name='Eloisa', numbert_of_listings='9'),\n",
              " Row(listing_id='150123', host_name='Eloisa', numbert_of_listings='9'),\n",
              " Row(listing_id='150123', host_name='Eloisa', numbert_of_listings='9'),\n",
              " Row(listing_id='150123', host_name='Eloisa', numbert_of_listings='9'),\n",
              " Row(listing_id='150123', host_name='Eloisa', numbert_of_listings='9'),\n",
              " Row(listing_id='150123', host_name='Eloisa', numbert_of_listings='9'),\n",
              " Row(listing_id='150123', host_name='Eloisa', numbert_of_listings='9'),\n",
              " Row(listing_id='150123', host_name='Eloisa', numbert_of_listings='9'),\n",
              " Row(listing_id='150123', host_name='Eloisa', numbert_of_listings='9'),\n",
              " Row(listing_id='150123', host_name='Eloisa', numbert_of_listings='9'),\n",
              " Row(listing_id='150123', host_name='Eloisa', numbert_of_listings='9'),\n",
              " Row(listing_id='150123', host_name='Eloisa', numbert_of_listings='9'),\n",
              " Row(listing_id='150123', host_name='Eloisa', numbert_of_listings='9'),\n",
              " Row(listing_id='150123', host_name='Eloisa', numbert_of_listings='9'),\n",
              " Row(listing_id='150123', host_name='Eloisa', numbert_of_listings='9'),\n",
              " Row(listing_id='150123', host_name='Eloisa', numbert_of_listings='9'),\n",
              " Row(listing_id='150123', host_name='Eloisa', numbert_of_listings='9'),\n",
              " Row(listing_id='150123', host_name='Eloisa', numbert_of_listings='9'),\n",
              " Row(listing_id='150123', host_name='Eloisa', numbert_of_listings='9'),\n",
              " Row(listing_id='150123', host_name='Eloisa', numbert_of_listings='9'),\n",
              " Row(listing_id='150123', host_name='Eloisa', numbert_of_listings='9'),\n",
              " Row(listing_id='150123', host_name='Eloisa', numbert_of_listings='9'),\n",
              " Row(listing_id='150123', host_name='Eloisa', numbert_of_listings='9'),\n",
              " Row(listing_id='150123', host_name='Eloisa', numbert_of_listings='9'),\n",
              " Row(listing_id='150123', host_name='Eloisa', numbert_of_listings='9'),\n",
              " Row(listing_id='150123', host_name='Eloisa', numbert_of_listings='9'),\n",
              " Row(listing_id='150123', host_name='Eloisa', numbert_of_listings='9'),\n",
              " Row(listing_id='150123', host_name='Eloisa', numbert_of_listings='9'),\n",
              " Row(listing_id='150123', host_name='Eloisa', numbert_of_listings='9'),\n",
              " Row(listing_id='150123', host_name='Eloisa', numbert_of_listings='9'),\n",
              " Row(listing_id='150123', host_name='Eloisa', numbert_of_listings='9'),\n",
              " Row(listing_id='150123', host_name='Eloisa', numbert_of_listings='9'),\n",
              " Row(listing_id='150123', host_name='Eloisa', numbert_of_listings='9'),\n",
              " Row(listing_id='150123', host_name='Eloisa', numbert_of_listings='9'),\n",
              " Row(listing_id='150123', host_name='Eloisa', numbert_of_listings='9'),\n",
              " Row(listing_id='150123', host_name='Eloisa', numbert_of_listings='9'),\n",
              " Row(listing_id='150123', host_name='Eloisa', numbert_of_listings='9'),\n",
              " Row(listing_id='150123', host_name='Eloisa', numbert_of_listings='9'),\n",
              " Row(listing_id='150123', host_name='Eloisa', numbert_of_listings='9'),\n",
              " Row(listing_id='150123', host_name='Eloisa', numbert_of_listings='9'),\n",
              " Row(listing_id='150123', host_name='Eloisa', numbert_of_listings='9'),\n",
              " Row(listing_id='599977', host_name='IVAN And PIETRO', numbert_of_listings='9'),\n",
              " Row(listing_id='599977', host_name='IVAN And PIETRO', numbert_of_listings='9'),\n",
              " Row(listing_id='599977', host_name='IVAN And PIETRO', numbert_of_listings='9'),\n",
              " Row(listing_id='599977', host_name='IVAN And PIETRO', numbert_of_listings='9'),\n",
              " Row(listing_id='599977', host_name='IVAN And PIETRO', numbert_of_listings='9'),\n",
              " Row(listing_id='599977', host_name='IVAN And PIETRO', numbert_of_listings='9'),\n",
              " Row(listing_id='599977', host_name='IVAN And PIETRO', numbert_of_listings='9'),\n",
              " Row(listing_id='599977', host_name='IVAN And PIETRO', numbert_of_listings='9'),\n",
              " Row(listing_id='599977', host_name='IVAN And PIETRO', numbert_of_listings='9'),\n",
              " Row(listing_id='599977', host_name='IVAN And PIETRO', numbert_of_listings='9'),\n",
              " Row(listing_id='599977', host_name='IVAN And PIETRO', numbert_of_listings='9'),\n",
              " Row(listing_id='599977', host_name='IVAN And PIETRO', numbert_of_listings='9'),\n",
              " Row(listing_id='599977', host_name='IVAN And PIETRO', numbert_of_listings='9'),\n",
              " Row(listing_id='599977', host_name='IVAN And PIETRO', numbert_of_listings='9'),\n",
              " Row(listing_id='599977', host_name='IVAN And PIETRO', numbert_of_listings='9'),\n",
              " Row(listing_id='599977', host_name='IVAN And PIETRO', numbert_of_listings='9'),\n",
              " Row(listing_id='599977', host_name='IVAN And PIETRO', numbert_of_listings='9'),\n",
              " Row(listing_id='599977', host_name='IVAN And PIETRO', numbert_of_listings='9'),\n",
              " Row(listing_id='599977', host_name='IVAN And PIETRO', numbert_of_listings='9'),\n",
              " Row(listing_id='599977', host_name='IVAN And PIETRO', numbert_of_listings='9'),\n",
              " Row(listing_id='599977', host_name='IVAN And PIETRO', numbert_of_listings='9'),\n",
              " Row(listing_id='599977', host_name='IVAN And PIETRO', numbert_of_listings='9'),\n",
              " Row(listing_id='599977', host_name='IVAN And PIETRO', numbert_of_listings='9'),\n",
              " Row(listing_id='599977', host_name='IVAN And PIETRO', numbert_of_listings='9'),\n",
              " Row(listing_id='599977', host_name='IVAN And PIETRO', numbert_of_listings='9'),\n",
              " Row(listing_id='599977', host_name='IVAN And PIETRO', numbert_of_listings='9'),\n",
              " Row(listing_id='599977', host_name='IVAN And PIETRO', numbert_of_listings='9'),\n",
              " Row(listing_id='599977', host_name='IVAN And PIETRO', numbert_of_listings='9'),\n",
              " Row(listing_id='599977', host_name='IVAN And PIETRO', numbert_of_listings='9'),\n",
              " Row(listing_id='599977', host_name='IVAN And PIETRO', numbert_of_listings='9'),\n",
              " Row(listing_id='599977', host_name='IVAN And PIETRO', numbert_of_listings='9'),\n",
              " Row(listing_id='599977', host_name='IVAN And PIETRO', numbert_of_listings='9'),\n",
              " Row(listing_id='599977', host_name='IVAN And PIETRO', numbert_of_listings='9'),\n",
              " Row(listing_id='599977', host_name='IVAN And PIETRO', numbert_of_listings='9'),\n",
              " Row(listing_id='599977', host_name='IVAN And PIETRO', numbert_of_listings='9'),\n",
              " Row(listing_id='599977', host_name='IVAN And PIETRO', numbert_of_listings='9'),\n",
              " Row(listing_id='599977', host_name='IVAN And PIETRO', numbert_of_listings='9'),\n",
              " Row(listing_id='599977', host_name='IVAN And PIETRO', numbert_of_listings='9'),\n",
              " Row(listing_id='599977', host_name='IVAN And PIETRO', numbert_of_listings='9'),\n",
              " Row(listing_id='599977', host_name='IVAN And PIETRO', numbert_of_listings='9'),\n",
              " Row(listing_id='599977', host_name='IVAN And PIETRO', numbert_of_listings='9'),\n",
              " Row(listing_id='599977', host_name='IVAN And PIETRO', numbert_of_listings='9'),\n",
              " Row(listing_id='337209', host_name='Ignacio', numbert_of_listings='9'),\n",
              " Row(listing_id='337209', host_name='Ignacio', numbert_of_listings='9'),\n",
              " Row(listing_id='337209', host_name='Ignacio', numbert_of_listings='9'),\n",
              " Row(listing_id='337209', host_name='Ignacio', numbert_of_listings='9'),\n",
              " Row(listing_id='337209', host_name='Ignacio', numbert_of_listings='9'),\n",
              " Row(listing_id='337209', host_name='Ignacio', numbert_of_listings='9'),\n",
              " Row(listing_id='337209', host_name='Ignacio', numbert_of_listings='9'),\n",
              " Row(listing_id='337209', host_name='Ignacio', numbert_of_listings='9'),\n",
              " Row(listing_id='337209', host_name='Ignacio', numbert_of_listings='9'),\n",
              " Row(listing_id='337209', host_name='Ignacio', numbert_of_listings='9'),\n",
              " Row(listing_id='337209', host_name='Ignacio', numbert_of_listings='9'),\n",
              " Row(listing_id='337209', host_name='Ignacio', numbert_of_listings='9'),\n",
              " Row(listing_id='337209', host_name='Ignacio', numbert_of_listings='9'),\n",
              " Row(listing_id='337209', host_name='Ignacio', numbert_of_listings='9'),\n",
              " Row(listing_id='337209', host_name='Ignacio', numbert_of_listings='9'),\n",
              " Row(listing_id='337209', host_name='Ignacio', numbert_of_listings='9'),\n",
              " Row(listing_id='337209', host_name='Ignacio', numbert_of_listings='9'),\n",
              " Row(listing_id='337209', host_name='Ignacio', numbert_of_listings='9'),\n",
              " Row(listing_id='337209', host_name='Ignacio', numbert_of_listings='9'),\n",
              " Row(listing_id='337209', host_name='Ignacio', numbert_of_listings='9'),\n",
              " Row(listing_id='337209', host_name='Ignacio', numbert_of_listings='9'),\n",
              " Row(listing_id='337209', host_name='Ignacio', numbert_of_listings='9'),\n",
              " Row(listing_id='337209', host_name='Ignacio', numbert_of_listings='9'),\n",
              " Row(listing_id='337209', host_name='Ignacio', numbert_of_listings='9'),\n",
              " Row(listing_id='337209', host_name='Ignacio', numbert_of_listings='9'),\n",
              " Row(listing_id='337209', host_name='Ignacio', numbert_of_listings='9'),\n",
              " Row(listing_id='337209', host_name='Ignacio', numbert_of_listings='9'),\n",
              " Row(listing_id='337209', host_name='Ignacio', numbert_of_listings='9'),\n",
              " Row(listing_id='337209', host_name='Ignacio', numbert_of_listings='9'),\n",
              " Row(listing_id='337209', host_name='Ignacio', numbert_of_listings='9'),\n",
              " Row(listing_id='337209', host_name='Ignacio', numbert_of_listings='9'),\n",
              " Row(listing_id='337209', host_name='Ignacio', numbert_of_listings='9'),\n",
              " Row(listing_id='337209', host_name='Ignacio', numbert_of_listings='9'),\n",
              " Row(listing_id='337209', host_name='Ignacio', numbert_of_listings='9'),\n",
              " Row(listing_id='337209', host_name='Ignacio', numbert_of_listings='9'),\n",
              " Row(listing_id='337209', host_name='Ignacio', numbert_of_listings='9'),\n",
              " Row(listing_id='337209', host_name='Ignacio', numbert_of_listings='9'),\n",
              " Row(listing_id='337209', host_name='Ignacio', numbert_of_listings='9'),\n",
              " Row(listing_id='337209', host_name='Ignacio', numbert_of_listings='9'),\n",
              " Row(listing_id='337209', host_name='Ignacio', numbert_of_listings='9'),\n",
              " Row(listing_id='337209', host_name='Ignacio', numbert_of_listings='9'),\n",
              " Row(listing_id='337209', host_name='Ignacio', numbert_of_listings='9'),\n",
              " Row(listing_id='374465', host_name='Ignacio', numbert_of_listings='9'),\n",
              " Row(listing_id='374465', host_name='Ignacio', numbert_of_listings='9'),\n",
              " Row(listing_id='374465', host_name='Ignacio', numbert_of_listings='9'),\n",
              " Row(listing_id='374465', host_name='Ignacio', numbert_of_listings='9'),\n",
              " Row(listing_id='374465', host_name='Ignacio', numbert_of_listings='9'),\n",
              " Row(listing_id='374465', host_name='Ignacio', numbert_of_listings='9'),\n",
              " Row(listing_id='374465', host_name='Ignacio', numbert_of_listings='9'),\n",
              " Row(listing_id='374465', host_name='Ignacio', numbert_of_listings='9'),\n",
              " Row(listing_id='374465', host_name='Ignacio', numbert_of_listings='9'),\n",
              " Row(listing_id='374465', host_name='Ignacio', numbert_of_listings='9'),\n",
              " Row(listing_id='374465', host_name='Ignacio', numbert_of_listings='9'),\n",
              " Row(listing_id='374465', host_name='Ignacio', numbert_of_listings='9'),\n",
              " Row(listing_id='374465', host_name='Ignacio', numbert_of_listings='9'),\n",
              " Row(listing_id='374465', host_name='Ignacio', numbert_of_listings='9'),\n",
              " Row(listing_id='374465', host_name='Ignacio', numbert_of_listings='9'),\n",
              " Row(listing_id='374465', host_name='Ignacio', numbert_of_listings='9'),\n",
              " Row(listing_id='374465', host_name='Ignacio', numbert_of_listings='9'),\n",
              " Row(listing_id='374465', host_name='Ignacio', numbert_of_listings='9'),\n",
              " Row(listing_id='374465', host_name='Ignacio', numbert_of_listings='9'),\n",
              " Row(listing_id='374465', host_name='Ignacio', numbert_of_listings='9'),\n",
              " Row(listing_id='374465', host_name='Ignacio', numbert_of_listings='9'),\n",
              " Row(listing_id='374465', host_name='Ignacio', numbert_of_listings='9'),\n",
              " Row(listing_id='374465', host_name='Ignacio', numbert_of_listings='9'),\n",
              " Row(listing_id='374465', host_name='Ignacio', numbert_of_listings='9'),\n",
              " Row(listing_id='374465', host_name='Ignacio', numbert_of_listings='9'),\n",
              " Row(listing_id='374465', host_name='Ignacio', numbert_of_listings='9'),\n",
              " Row(listing_id='374465', host_name='Ignacio', numbert_of_listings='9'),\n",
              " Row(listing_id='374465', host_name='Ignacio', numbert_of_listings='9'),\n",
              " Row(listing_id='374465', host_name='Ignacio', numbert_of_listings='9'),\n",
              " Row(listing_id='374465', host_name='Ignacio', numbert_of_listings='9'),\n",
              " Row(listing_id='374465', host_name='Ignacio', numbert_of_listings='9'),\n",
              " Row(listing_id='374465', host_name='Ignacio', numbert_of_listings='9'),\n",
              " Row(listing_id='374465', host_name='Ignacio', numbert_of_listings='9'),\n",
              " Row(listing_id='374465', host_name='Ignacio', numbert_of_listings='9'),\n",
              " Row(listing_id='374465', host_name='Ignacio', numbert_of_listings='9'),\n",
              " Row(listing_id='374465', host_name='Ignacio', numbert_of_listings='9'),\n",
              " Row(listing_id='374465', host_name='Ignacio', numbert_of_listings='9'),\n",
              " Row(listing_id='374465', host_name='Ignacio', numbert_of_listings='9'),\n",
              " Row(listing_id='374465', host_name='Ignacio', numbert_of_listings='9'),\n",
              " Row(listing_id='374465', host_name='Ignacio', numbert_of_listings='9'),\n",
              " Row(listing_id='374465', host_name='Ignacio', numbert_of_listings='9'),\n",
              " Row(listing_id='374465', host_name='Ignacio', numbert_of_listings='9'),\n",
              " Row(listing_id='521162', host_name='Raúl', numbert_of_listings='9'),\n",
              " Row(listing_id='521162', host_name='Raúl', numbert_of_listings='9'),\n",
              " Row(listing_id='521162', host_name='Raúl', numbert_of_listings='9'),\n",
              " Row(listing_id='521162', host_name='Raúl', numbert_of_listings='9'),\n",
              " Row(listing_id='521162', host_name='Raúl', numbert_of_listings='9'),\n",
              " Row(listing_id='521162', host_name='Raúl', numbert_of_listings='9'),\n",
              " Row(listing_id='521162', host_name='Raúl', numbert_of_listings='9'),\n",
              " Row(listing_id='521162', host_name='Raúl', numbert_of_listings='9'),\n",
              " Row(listing_id='521162', host_name='Raúl', numbert_of_listings='9'),\n",
              " Row(listing_id='521162', host_name='Raúl', numbert_of_listings='9'),\n",
              " Row(listing_id='521162', host_name='Raúl', numbert_of_listings='9'),\n",
              " Row(listing_id='521162', host_name='Raúl', numbert_of_listings='9'),\n",
              " Row(listing_id='521162', host_name='Raúl', numbert_of_listings='9'),\n",
              " Row(listing_id='521162', host_name='Raúl', numbert_of_listings='9'),\n",
              " Row(listing_id='521162', host_name='Raúl', numbert_of_listings='9'),\n",
              " Row(listing_id='521162', host_name='Raúl', numbert_of_listings='9'),\n",
              " Row(listing_id='521162', host_name='Raúl', numbert_of_listings='9'),\n",
              " Row(listing_id='521162', host_name='Raúl', numbert_of_listings='9'),\n",
              " Row(listing_id='521162', host_name='Raúl', numbert_of_listings='9'),\n",
              " Row(listing_id='521162', host_name='Raúl', numbert_of_listings='9'),\n",
              " Row(listing_id='521162', host_name='Raúl', numbert_of_listings='9'),\n",
              " Row(listing_id='521162', host_name='Raúl', numbert_of_listings='9'),\n",
              " Row(listing_id='521162', host_name='Raúl', numbert_of_listings='9'),\n",
              " Row(listing_id='521162', host_name='Raúl', numbert_of_listings='9'),\n",
              " Row(listing_id='521162', host_name='Raúl', numbert_of_listings='9'),\n",
              " Row(listing_id='521162', host_name='Raúl', numbert_of_listings='9'),\n",
              " Row(listing_id='521162', host_name='Raúl', numbert_of_listings='9'),\n",
              " Row(listing_id='521162', host_name='Raúl', numbert_of_listings='9'),\n",
              " Row(listing_id='521162', host_name='Raúl', numbert_of_listings='9'),\n",
              " Row(listing_id='521162', host_name='Raúl', numbert_of_listings='9'),\n",
              " Row(listing_id='521162', host_name='Raúl', numbert_of_listings='9'),\n",
              " Row(listing_id='521162', host_name='Raúl', numbert_of_listings='9'),\n",
              " Row(listing_id='521162', host_name='Raúl', numbert_of_listings='9'),\n",
              " Row(listing_id='521162', host_name='Raúl', numbert_of_listings='9'),\n",
              " Row(listing_id='521162', host_name='Raúl', numbert_of_listings='9'),\n",
              " Row(listing_id='521162', host_name='Raúl', numbert_of_listings='9'),\n",
              " Row(listing_id='521162', host_name='Raúl', numbert_of_listings='9'),\n",
              " Row(listing_id='521162', host_name='Raúl', numbert_of_listings='9'),\n",
              " Row(listing_id='521162', host_name='Raúl', numbert_of_listings='9'),\n",
              " Row(listing_id='521162', host_name='Raúl', numbert_of_listings='9'),\n",
              " Row(listing_id='521162', host_name='Raúl', numbert_of_listings='9'),\n",
              " Row(listing_id='521162', host_name='Raúl', numbert_of_listings='9')]"
            ]
          },
          "metadata": {
            "tags": []
          },
          "execution_count": 189
        }
      ]
    },
    {
      "cell_type": "code",
      "metadata": {
        "editable": true,
        "id": "qwv-XD0AiaIM",
        "colab_type": "code",
        "outputId": "919edee1-0da1-4379-b7ff-fa1f86609076",
        "colab": {}
      },
      "source": [
        "# After quried data that shown there are more than 1 host has the same maximum number of listing and that their name \n",
        "listings_fact_table.select([\"listing_id\", \"host_name\", \"numbert_of_listings\"]).where(listings_fact_table.numbert_of_listings ==9).dropDuplicates().sort(\"host_name\").collect()"
      ],
      "execution_count": 0,
      "outputs": [
        {
          "output_type": "execute_result",
          "data": {
            "text/plain": [
              "[Row(listing_id='119389', host_name='Alvaro', numbert_of_listings='9'),\n",
              " Row(listing_id='762701', host_name='Alvaro', numbert_of_listings='9'),\n",
              " Row(listing_id='72955', host_name='Alvaro', numbert_of_listings='9'),\n",
              " Row(listing_id='256004', host_name='Anouk', numbert_of_listings='9'),\n",
              " Row(listing_id='217674', host_name='Anouk', numbert_of_listings='9'),\n",
              " Row(listing_id='688795', host_name='Anouk', numbert_of_listings='9'),\n",
              " Row(listing_id='967421', host_name='Daniel', numbert_of_listings='9'),\n",
              " Row(listing_id='150123', host_name='Eloisa', numbert_of_listings='9'),\n",
              " Row(listing_id='599977', host_name='IVAN And PIETRO', numbert_of_listings='9'),\n",
              " Row(listing_id='337209', host_name='Ignacio', numbert_of_listings='9'),\n",
              " Row(listing_id='374465', host_name='Ignacio', numbert_of_listings='9'),\n",
              " Row(listing_id='521162', host_name='Raúl', numbert_of_listings='9')]"
            ]
          },
          "metadata": {
            "tags": []
          },
          "execution_count": 191
        }
      ]
    },
    {
      "cell_type": "markdown",
      "metadata": {
        "editable": true,
        "id": "jt-r6LwyiaIQ",
        "colab_type": "text"
      },
      "source": [
        "> #### The hosts names have the most number of listings \n",
        ">\n",
        "> - Alvaro\n",
        "> - Anouk\n",
        "> - Daniel\n",
        "> - Eloisa\n",
        "> - IVAN And PIETRO\n",
        "> - Raúl\n",
        ">\n",
        ">  *6* hosts going according to **analytics**."
      ]
    },
    {
      "cell_type": "markdown",
      "metadata": {
        "editable": true,
        "id": "QTfvCS4_iaIR",
        "colab_type": "text"
      },
      "source": [
        "#### 4.3 Data dictionary \n",
        "Create a data dictionary for your data model. For each field, provide a brief description of what the data is and where it came from. You can include the data dictionary in the notebook or in a separate file.\n",
        "\n",
        "<span style=\"color:red\">Look dictionary.txt file </span>\n",
        "\n",
        "\n"
      ]
    },
    {
      "cell_type": "markdown",
      "metadata": {
        "editable": true,
        "id": "BmaLDTPfiaIS",
        "colab_type": "text"
      },
      "source": [
        "#### Step 5: Complete Project Write Up\n",
        "* Clearly state the rationale for the choice of tools and technologies for the project.\n",
        "* Propose how often the data should be updated and why.\n",
        "* Write a description of how you would approach the problem differently under the following scenarios:\n",
        " * The data was increased by 100x.\n",
        " * The data populates a dashboard that must be updated on a daily basis by 7am every day.\n",
        " * The database needed to be accessed by 100+ people."
      ]
    },
    {
      "cell_type": "markdown",
      "metadata": {
        "editable": true,
        "id": "UixnEDbliaIT",
        "colab_type": "text"
      },
      "source": [
        "<span style=\"color:green\">In this project Spark used to model data and ETL pipeline </span>"
      ]
    },
    {
      "cell_type": "markdown",
      "metadata": {
        "editable": true,
        "id": "BuNo1VdciaIU",
        "colab_type": "text"
      },
      "source": [
        "<span style=\"color:green\"> Data can be updated using spark by udating , inserting rows and adding new column</span>"
      ]
    },
    {
      "cell_type": "markdown",
      "metadata": {
        "editable": true,
        "id": "amARDWO6iaIV",
        "colab_type": "text"
      },
      "source": [
        "<span style=\"color:green\"> if the data increased and the one PC not enough spark data lakes can be used to partition data into multiple PCs</span>"
      ]
    },
    {
      "cell_type": "markdown",
      "metadata": {
        "editable": true,
        "id": "rla3jmsMiaIW",
        "colab_type": "text"
      },
      "source": [
        "<span style=\"color:green\"> if the must be updated on a daily basis by 7am every day Airflow can be use to make automatically ETL procecess \n",
        "</span>"
      ]
    },
    {
      "cell_type": "markdown",
      "metadata": {
        "editable": true,
        "id": "PWxjyjTviaIa",
        "colab_type": "text"
      },
      "source": [
        " <span style=\"color:green\">  if The database needed to be accessed by 100+ people AWS can be used to handle multiple users  </span>\n"
      ]
    },
    {
      "cell_type": "code",
      "metadata": {
        "editable": true,
        "id": "JLLXnkUiiaIa",
        "colab_type": "code",
        "colab": {}
      },
      "source": [
        ""
      ],
      "execution_count": 0,
      "outputs": []
    }
  ]
}